{
  "nbformat": 4,
  "nbformat_minor": 0,
  "metadata": {
    "colab": {
      "name": "경사하강법.ipynb",
      "provenance": [],
      "collapsed_sections": [],
      "authorship_tag": "ABX9TyOcoMJSM9FTX2ktRhaWGb0n",
      "include_colab_link": true
    },
    "kernelspec": {
      "name": "python3",
      "display_name": "Python 3"
    }
  },
  "cells": [
    {
      "cell_type": "markdown",
      "metadata": {
        "id": "view-in-github",
        "colab_type": "text"
      },
      "source": [
        "<a href=\"https://colab.research.google.com/github/park-jiha/deep-learning/blob/main/%EA%B2%BD%EC%82%AC%ED%95%98%EA%B0%95%EB%B2%95.ipynb\" target=\"_parent\"><img src=\"https://colab.research.google.com/assets/colab-badge.svg\" alt=\"Open In Colab\"/></a>"
      ]
    },
    {
      "cell_type": "markdown",
      "metadata": {
        "id": "zpfMXk8bMohx"
      },
      "source": [
        "# **경사하강법**"
      ]
    },
    {
      "cell_type": "code",
      "metadata": {
        "id": "A3nlD_KgMljx"
      },
      "source": [
        "import numpy as np\r\n",
        "import matplotlib.pyplot as plt"
      ],
      "execution_count": 1,
      "outputs": []
    },
    {
      "cell_type": "code",
      "metadata": {
        "colab": {
          "base_uri": "https://localhost:8080/"
        },
        "id": "13M1KwHuOfex",
        "outputId": "c7128fab-e4c6-4f6d-f309-e045a30ff5c8"
      },
      "source": [
        "data = [[2,81],[4,93],[6,91],[8,97]]\r\n",
        "x = [i[0] for i in data]\r\n",
        "y = [i[1] for i in data]\r\n",
        "print(x,y)"
      ],
      "execution_count": 2,
      "outputs": [
        {
          "output_type": "stream",
          "text": [
            "[2, 4, 6, 8] [81, 93, 91, 97]\n"
          ],
          "name": "stdout"
        }
      ]
    },
    {
      "cell_type": "code",
      "metadata": {
        "colab": {
          "base_uri": "https://localhost:8080/",
          "height": 265
        },
        "id": "KVL43ZTQOj9_",
        "outputId": "97b868f9-d1c0-446a-dcdf-b18e3de6e570"
      },
      "source": [
        "plt.figure(1)\r\n",
        "plt.scatter(x,y)\r\n",
        "plt.grid()"
      ],
      "execution_count": 3,
      "outputs": [
        {
          "output_type": "display_data",
          "data": {
            "image/png": "[encoded data removed]",
            "text/plain": [
              "<Figure size 432x288 with 1 Axes>"
            ]
          },
          "metadata": {
            "tags": [],
            "needs_background": "light"
          }
        }
      ]
    },
    {
      "cell_type": "markdown",
      "metadata": {
        "id": "GHnDO-9-OyQM"
      },
      "source": [
        "# **Cost를 최소화 했을 때 a, b를 찾아 보자 -> 미분!**"
      ]
    },
    {
      "cell_type": "code",
      "metadata": {
        "id": "TmCnh_69O9_8"
      },
      "source": [
        "x_data = np.array(x) # 계산 편리화를 위해 npArray 로 만들음\r\n",
        "y_data = np.array(y)\r\n",
        "\r\n",
        "# a,b 초기화 (막 0 으로 초기화 해도 될까?)\r\n",
        "# 초기화를 좀 더 잘해보자((심화) keyword = xavier initialization) 내용 어려워!! 언급만 해도 ㄱㅊ\r\n",
        "a=0 \r\n",
        "b=0\r\n",
        "lr =0.03 # learning rate 는 어떻게 조절? \r\n",
        "epochs = 2001 # epoch 란?"
      ],
      "execution_count": 4,
      "outputs": []
    },
    {
      "cell_type": "code",
      "metadata": {
        "colab": {
          "base_uri": "https://localhost:8080/"
        },
        "id": "eWB3zGNxPBg7",
        "outputId": "03fceec0-367e-48e7-9400-3d152919ea79"
      },
      "source": [
        "for i in range(epochs):\r\n",
        "  y_pred=a*x_data+b     # 예측  hypothesis 가설함수 H(x)\r\n",
        "  error = y_pred- y_data  # 예측 - 정답 = 오차\r\n",
        "\r\n",
        "  # a,b 미분 값 구하기\r\n",
        "  a_diff = (2/len(x_data))*sum(x_data*error) # gradient a\r\n",
        "  b_diff = (2/len(x_data))*sum(error) # gradient b\r\n",
        "\r\n",
        "  # 기존 a,b 값 갱신\r\n",
        "  a -= lr*a_diff\r\n",
        "  b -= lr*b_diff\r\n",
        "\r\n",
        "  if i%100==0:\r\n",
        "    print(\"epoch=%d 기울기=%.5f 절편=%.5f\"%(i,a,b))"
      ],
      "execution_count": 5,
      "outputs": [
        {
          "output_type": "stream",
          "text": [
            "epoch=0 기울기=27.84000 절편=5.43000\n",
            "epoch=100 기울기=7.07386 절편=50.51166\n",
            "epoch=200 기울기=4.09600 절편=68.28224\n",
            "epoch=300 기울기=2.97568 절편=74.96781\n",
            "epoch=400 기울기=2.55420 절편=77.48303\n",
            "epoch=500 기울기=2.39563 절편=78.42929\n",
            "epoch=600 기울기=2.33598 절편=78.78529\n",
            "epoch=700 기울기=2.31354 절편=78.91922\n",
            "epoch=800 기울기=2.30509 절편=78.96961\n",
            "epoch=900 기울기=2.30192 절편=78.98857\n",
            "epoch=1000 기울기=2.30072 절편=78.99570\n",
            "epoch=1100 기울기=2.30027 절편=78.99838\n",
            "epoch=1200 기울기=2.30010 절편=78.99939\n",
            "epoch=1300 기울기=2.30004 절편=78.99977\n",
            "epoch=1400 기울기=2.30001 절편=78.99991\n",
            "epoch=1500 기울기=2.30001 절편=78.99997\n",
            "epoch=1600 기울기=2.30000 절편=78.99999\n",
            "epoch=1700 기울기=2.30000 절편=79.00000\n",
            "epoch=1800 기울기=2.30000 절편=79.00000\n",
            "epoch=1900 기울기=2.30000 절편=79.00000\n",
            "epoch=2000 기울기=2.30000 절편=79.00000\n"
          ],
          "name": "stdout"
        }
      ]
    },
    {
      "cell_type": "markdown",
      "metadata": {
        "id": "PkFeMahoPE9o"
      },
      "source": [
        "# **그래프로 확인**"
      ]
    },
    {
      "cell_type": "code",
      "metadata": {
        "colab": {
          "base_uri": "https://localhost:8080/",
          "height": 265
        },
        "id": "mfZ_d6hAPHsz",
        "outputId": "e5ecf18b-e31b-457c-a49e-f224a8112b9e"
      },
      "source": [
        "y_pred = a*x_data + b \r\n",
        "plt.scatter(x,y)\r\n",
        "plt.plot([min(x_data),max(x_data)],[min(y_pred),max(y_pred)],'r')\r\n",
        "plt.grid(True)"
      ],
      "execution_count": 6,
      "outputs": [
        {
          "output_type": "display_data",
          "data": {
            "image/png": "[encoded data removed]",
            "text/plain": [
              "<Figure size 432x288 with 1 Axes>"
            ]
          },
          "metadata": {
            "tags": [],
            "needs_background": "light"
          }
        }
      ]
    },
    {
      "cell_type": "code",
      "metadata": {
        "colab": {
          "base_uri": "https://localhost:8080/"
        },
        "id": "sIpSasIuPK1m",
        "outputId": "06d04e77-12d0-4447-a478-097a10c216c8"
      },
      "source": [
        "# ex) 9시간 공부했을땐 몇점??\r\n",
        "print(a*9+b)"
      ],
      "execution_count": 7,
      "outputs": [
        {
          "output_type": "stream",
          "text": [
            "99.70000012415323\n"
          ],
          "name": "stdout"
        }
      ]
    },
    {
      "cell_type": "markdown",
      "metadata": {
        "id": "kYJFJAbxPSrm"
      },
      "source": [
        "# **다중 선형회귀**"
      ]
    },
    {
      "cell_type": "code",
      "metadata": {
        "colab": {
          "base_uri": "https://localhost:8080/"
        },
        "id": "JsX0atzoPW3Q",
        "outputId": "874bab56-d22e-4678-a79d-252c1e9dcee4"
      },
      "source": [
        "data = [[2,0,81],[4,4,93],[6,2,91],[8,3,97]] # [x1,x2,y]\r\n",
        "x1 = [i[0] for i in data]\r\n",
        "x2 = [i[1] for i in data]\r\n",
        "\r\n",
        "y = [i[2] for i in data]\r\n",
        "\r\n",
        "x1,x2,y"
      ],
      "execution_count": 8,
      "outputs": [
        {
          "output_type": "execute_result",
          "data": {
            "text/plain": [
              "([2, 4, 6, 8], [0, 4, 2, 3], [81, 93, 91, 97])"
            ]
          },
          "metadata": {
            "tags": []
          },
          "execution_count": 8
        }
      ]
    },
    {
      "cell_type": "code",
      "metadata": {
        "colab": {
          "base_uri": "https://localhost:8080/",
          "height": 266
        },
        "id": "FLfnB5VsPYoU",
        "outputId": "5e51ea5d-a9a3-4765-a7ac-133f7985aa90"
      },
      "source": [
        "from mpl_toolkits import mplot3d\r\n",
        "ax = plt.axes(projection='3d')\r\n",
        "ax.set_xlabel(\"Study hours\")\r\n",
        "ax.set_ylabel(\"private class\")\r\n",
        "ax.set_zlabel(\"Score\")\r\n",
        "ax.scatter(x1,x2,y)"
      ],
      "execution_count": 9,
      "outputs": [
        {
          "output_type": "execute_result",
          "data": {
            "text/plain": [
              "<mpl_toolkits.mplot3d.art3d.Path3DCollection at 0x7f891e80fb38>"
            ]
          },
          "metadata": {
            "tags": []
          },
          "execution_count": 9
        },
        {
          "output_type": "display_data",
          "data": {
            "image/png": "[encoded data removed]",
            "text/plain": [
              "<Figure size 432x288 with 1 Axes>"
            ]
          },
          "metadata": {
            "tags": [],
            "needs_background": "light"
          }
        }
      ]
    },
    {
      "cell_type": "code",
      "metadata": {
        "id": "Zc7cUmKiPa6J"
      },
      "source": [
        "x1_data = np.array(x1) # 계산 편리화를 위해 npArray 로 만들음\r\n",
        "x2_data = np.array(x2) # 계산 편리화를 위해 npArray 로 만들음\r\n",
        "y_data = np.array(y)\r\n",
        "\r\n",
        "# a,b 초기화 (막 0 으로 초기화 해도 될까?)\r\n",
        "# 초기화를 좀 더 잘해보자((심화) keyword = xavier initialization) 내용 어려워!! 언급만 해도 ㄱㅊ\r\n",
        "a1=0\r\n",
        "a2=0 \r\n",
        "b1=0\r\n",
        "lr =0.00001 # learning rate 는 어떻게 조절?\r\n",
        "epochs = 2001 #epoch 란?"
      ],
      "execution_count": 10,
      "outputs": []
    },
    {
      "cell_type": "code",
      "metadata": {
        "colab": {
          "base_uri": "https://localhost:8080/"
        },
        "id": "ra6Ku19TPc4U",
        "outputId": "6bc65045-e8e7-483a-9f10-9c9e698c822b"
      },
      "source": [
        "for i in range(epochs):\r\n",
        "  y_pred = a1*x1_data + a2*x2_data + b     # 예측  hypothesis 가설함수 H(x)\r\n",
        "  error = y_pred - y_data  # 예측 - 정답 = 오차\r\n",
        "\r\n",
        "  # a,b 미분 값 구하기\r\n",
        "  a1_diff = (2/len(x1_data))*sum(x1_data*error) # gradient a1\r\n",
        "  a2_diff = (2/len(x2_data))*sum(x2_data*error) # gradient a2\r\n",
        "  b_diff = (2/len(x_data))*sum(error) # gradient b\r\n",
        "\r\n",
        "  # 기존 a,b 값 갱신\r\n",
        "  a1 -= lr*a1_diff\r\n",
        "  a2 -= lr*a2_diff\r\n",
        "  b -= lr*b_diff\r\n",
        "\r\n",
        "  if i%100==0:\r\n",
        "    print(\"epoch=%d 기울기1=%.5f 기울기2=%.5f 절편=%.5f\"%(i,a1,a2,b))"
      ],
      "execution_count": 11,
      "outputs": [
        {
          "output_type": "stream",
          "text": [
            "epoch=0 기울기1=0.00138 기울기2=0.00067 절편=79.00023\n",
            "epoch=100 기울기1=0.13433 기울기2=0.06537 절편=79.02238\n",
            "epoch=200 기울기1=0.25774 기울기2=0.12574 절편=79.04292\n",
            "epoch=300 기울기1=0.37231 기울기2=0.18207 절편=79.06197\n",
            "epoch=400 기울기1=0.47864 기울기2=0.23467 절편=79.07964\n",
            "epoch=500 기울기1=0.57734 기울기2=0.28378 절편=79.09601\n",
            "epoch=600 기울기1=0.66893 기울기2=0.32966 절편=79.11119\n",
            "epoch=700 기울기1=0.75393 기울기2=0.37254 절편=79.12526\n",
            "epoch=800 기울기1=0.83279 기울기2=0.41263 절편=79.13830\n",
            "epoch=900 기울기1=0.90597 기울기2=0.45011 절편=79.15037\n",
            "epoch=1000 기울기1=0.97385 기울기2=0.48519 절편=79.16155\n",
            "epoch=1100 기울기1=1.03681 기울기2=0.51803 절편=79.17191\n",
            "epoch=1200 기울기1=1.09521 기울기2=0.54878 절편=79.18149\n",
            "epoch=1300 기울기1=1.14937 기울기2=0.57759 절편=79.19037\n",
            "epoch=1400 기울기1=1.19958 기울기2=0.60461 절편=79.19857\n",
            "epoch=1500 기울기1=1.24613 기울기2=0.62995 절편=79.20616\n",
            "epoch=1600 기울기1=1.28928 기울기2=0.65374 절편=79.21317\n",
            "epoch=1700 기울기1=1.32927 기울기2=0.67608 절편=79.21966\n",
            "epoch=1800 기울기1=1.36632 기울기2=0.69708 절편=79.22564\n",
            "epoch=1900 기울기1=1.40064 기울기2=0.71683 절편=79.23117\n",
            "epoch=2000 기울기1=1.43243 기울기2=0.73542 절편=79.23627\n"
          ],
          "name": "stdout"
        }
      ]
    },
    {
      "cell_type": "code",
      "metadata": {
        "colab": {
          "base_uri": "https://localhost:8080/"
        },
        "id": "4qa28KNPPfAq",
        "outputId": "b9867b86-d123-43d7-9dbe-e587022873e3"
      },
      "source": [
        "# ex) 3시간 공부 6번 과외 점수는?\r\n",
        "print(a1*3+a2*6+b)"
      ],
      "execution_count": 12,
      "outputs": [
        {
          "output_type": "stream",
          "text": [
            "87.94607987019224\n"
          ],
          "name": "stdout"
        }
      ]
    }
  ]
}