{
  "nbformat": 4,
  "nbformat_minor": 0,
  "metadata": {
    "colab": {
      "name": "데이터 다루기.ipynb",
      "provenance": [],
      "collapsed_sections": [],
      "authorship_tag": "ABX9TyNQ2vHVL3xeh98SiovC7B44",
      "include_colab_link": true
    },
    "kernelspec": {
      "name": "python3",
      "display_name": "Python 3"
    }
  },
  "cells": [
    {
      "cell_type": "markdown",
      "metadata": {
        "id": "view-in-github",
        "colab_type": "text"
      },
      "source": [
        "<a href=\"https://colab.research.google.com/github/park-jiha/deep-learning/blob/main/%EB%8D%B0%EC%9D%B4%ED%84%B0_%EB%8B%A4%EB%A3%A8%EA%B8%B0.ipynb\" target=\"_parent\"><img src=\"https://colab.research.google.com/assets/colab-badge.svg\" alt=\"Open In Colab\"/></a>"
      ]
    },
    {
      "cell_type": "markdown",
      "metadata": {
        "id": "WfkGSAuWQ4GQ"
      },
      "source": [
        "## pands 다뤄보기"
      ]
    },
    {
      "cell_type": "code",
      "metadata": {
        "id": "cuxQW-ASRJYi"
      },
      "source": [
        "import numpy as np\r\n",
        "import pandas as pd"
      ],
      "execution_count": 4,
      "outputs": []
    },
    {
      "cell_type": "code",
      "metadata": {
        "colab": {
          "base_uri": "https://localhost:8080/",
          "height": 204
        },
        "id": "aN6ySfLbQ0At",
        "outputId": "f84f1e2e-9b32-477c-9040-682ab9f844e1"
      },
      "source": [
        "df = pd.read_csv('pima-indians-diabetes.csv',names=[\"pregnant\",\"plasma\",\"pressure\",\"thickness\",\"insulin\",\"BMI\",\r\n",
        "                        \"pedigree\",\"age\",\"class\"]) # 이 데이터에는 헤더가 없으니 직접 넣어주자\r\n",
        "df.head(5)"
      ],
      "execution_count": 5,
      "outputs": [
        {
          "output_type": "execute_result",
          "data": {
            "text/html": [
              "<div>\n",
              "<style scoped>\n",
              "    .dataframe tbody tr th:only-of-type {\n",
              "        vertical-align: middle;\n",
              "    }\n",
              "\n",
              "    .dataframe tbody tr th {\n",
              "        vertical-align: top;\n",
              "    }\n",
              "\n",
              "    .dataframe thead th {\n",
              "        text-align: right;\n",
              "    }\n",
              "</style>\n",
              "<table border=\"1\" class=\"dataframe\">\n",
              "  <thead>\n",
              "    <tr style=\"text-align: right;\">\n",
              "      <th></th>\n",
              "      <th>pregnant</th>\n",
              "      <th>plasma</th>\n",
              "      <th>pressure</th>\n",
              "      <th>thickness</th>\n",
              "      <th>insulin</th>\n",
              "      <th>BMI</th>\n",
              "      <th>pedigree</th>\n",
              "      <th>age</th>\n",
              "      <th>class</th>\n",
              "    </tr>\n",
              "  </thead>\n",
              "  <tbody>\n",
              "    <tr>\n",
              "      <th>0</th>\n",
              "      <td>6</td>\n",
              "      <td>148</td>\n",
              "      <td>72</td>\n",
              "      <td>35</td>\n",
              "      <td>0</td>\n",
              "      <td>33.6</td>\n",
              "      <td>0.627</td>\n",
              "      <td>50</td>\n",
              "      <td>1</td>\n",
              "    </tr>\n",
              "    <tr>\n",
              "      <th>1</th>\n",
              "      <td>1</td>\n",
              "      <td>85</td>\n",
              "      <td>66</td>\n",
              "      <td>29</td>\n",
              "      <td>0</td>\n",
              "      <td>26.6</td>\n",
              "      <td>0.351</td>\n",
              "      <td>31</td>\n",
              "      <td>0</td>\n",
              "    </tr>\n",
              "    <tr>\n",
              "      <th>2</th>\n",
              "      <td>8</td>\n",
              "      <td>183</td>\n",
              "      <td>64</td>\n",
              "      <td>0</td>\n",
              "      <td>0</td>\n",
              "      <td>23.3</td>\n",
              "      <td>0.672</td>\n",
              "      <td>32</td>\n",
              "      <td>1</td>\n",
              "    </tr>\n",
              "    <tr>\n",
              "      <th>3</th>\n",
              "      <td>1</td>\n",
              "      <td>89</td>\n",
              "      <td>66</td>\n",
              "      <td>23</td>\n",
              "      <td>94</td>\n",
              "      <td>28.1</td>\n",
              "      <td>0.167</td>\n",
              "      <td>21</td>\n",
              "      <td>0</td>\n",
              "    </tr>\n",
              "    <tr>\n",
              "      <th>4</th>\n",
              "      <td>0</td>\n",
              "      <td>137</td>\n",
              "      <td>40</td>\n",
              "      <td>35</td>\n",
              "      <td>168</td>\n",
              "      <td>43.1</td>\n",
              "      <td>2.288</td>\n",
              "      <td>33</td>\n",
              "      <td>1</td>\n",
              "    </tr>\n",
              "  </tbody>\n",
              "</table>\n",
              "</div>"
            ],
            "text/plain": [
              "   pregnant  plasma  pressure  thickness  insulin   BMI  pedigree  age  class\n",
              "0         6     148        72         35        0  33.6     0.627   50      1\n",
              "1         1      85        66         29        0  26.6     0.351   31      0\n",
              "2         8     183        64          0        0  23.3     0.672   32      1\n",
              "3         1      89        66         23       94  28.1     0.167   21      0\n",
              "4         0     137        40         35      168  43.1     2.288   33      1"
            ]
          },
          "metadata": {
            "tags": []
          },
          "execution_count": 5
        }
      ]
    },
    {
      "cell_type": "markdown",
      "metadata": {
        "id": "NLhZkZn_RORO"
      },
      "source": [
        "전반적인 정보 확인, null 값 확인할 때도 쓰임"
      ]
    },
    {
      "cell_type": "code",
      "metadata": {
        "colab": {
          "base_uri": "https://localhost:8080/"
        },
        "id": "AvOe0LN-RMm0",
        "outputId": "a6804724-3147-4281-e49e-9cd5f81a41e4"
      },
      "source": [
        "df.info()"
      ],
      "execution_count": 6,
      "outputs": [
        {
          "output_type": "stream",
          "text": [
            "<class 'pandas.core.frame.DataFrame'>\n",
            "RangeIndex: 768 entries, 0 to 767\n",
            "Data columns (total 9 columns):\n",
            " #   Column     Non-Null Count  Dtype  \n",
            "---  ------     --------------  -----  \n",
            " 0   pregnant   768 non-null    int64  \n",
            " 1   plasma     768 non-null    int64  \n",
            " 2   pressure   768 non-null    int64  \n",
            " 3   thickness  768 non-null    int64  \n",
            " 4   insulin    768 non-null    int64  \n",
            " 5   BMI        768 non-null    float64\n",
            " 6   pedigree   768 non-null    float64\n",
            " 7   age        768 non-null    int64  \n",
            " 8   class      768 non-null    int64  \n",
            "dtypes: float64(2), int64(7)\n",
            "memory usage: 54.1 KB\n"
          ],
          "name": "stdout"
        }
      ]
    },
    {
      "cell_type": "code",
      "metadata": {
        "colab": {
          "base_uri": "https://localhost:8080/",
          "height": 317
        },
        "id": "Fvpya1vRRU78",
        "outputId": "5e828804-f664-4f90-9a5e-61fcd26654f6"
      },
      "source": [
        "df.describe() # 통계값 보여줌"
      ],
      "execution_count": 7,
      "outputs": [
        {
          "output_type": "execute_result",
          "data": {
            "text/html": [
              "<div>\n",
              "<style scoped>\n",
              "    .dataframe tbody tr th:only-of-type {\n",
              "        vertical-align: middle;\n",
              "    }\n",
              "\n",
              "    .dataframe tbody tr th {\n",
              "        vertical-align: top;\n",
              "    }\n",
              "\n",
              "    .dataframe thead th {\n",
              "        text-align: right;\n",
              "    }\n",
              "</style>\n",
              "<table border=\"1\" class=\"dataframe\">\n",
              "  <thead>\n",
              "    <tr style=\"text-align: right;\">\n",
              "      <th></th>\n",
              "      <th>pregnant</th>\n",
              "      <th>plasma</th>\n",
              "      <th>pressure</th>\n",
              "      <th>thickness</th>\n",
              "      <th>insulin</th>\n",
              "      <th>BMI</th>\n",
              "      <th>pedigree</th>\n",
              "      <th>age</th>\n",
              "      <th>class</th>\n",
              "    </tr>\n",
              "  </thead>\n",
              "  <tbody>\n",
              "    <tr>\n",
              "      <th>count</th>\n",
              "      <td>768.000000</td>\n",
              "      <td>768.000000</td>\n",
              "      <td>768.000000</td>\n",
              "      <td>768.000000</td>\n",
              "      <td>768.000000</td>\n",
              "      <td>768.000000</td>\n",
              "      <td>768.000000</td>\n",
              "      <td>768.000000</td>\n",
              "      <td>768.000000</td>\n",
              "    </tr>\n",
              "    <tr>\n",
              "      <th>mean</th>\n",
              "      <td>3.845052</td>\n",
              "      <td>120.894531</td>\n",
              "      <td>69.105469</td>\n",
              "      <td>20.536458</td>\n",
              "      <td>79.799479</td>\n",
              "      <td>31.992578</td>\n",
              "      <td>0.471876</td>\n",
              "      <td>33.240885</td>\n",
              "      <td>0.348958</td>\n",
              "    </tr>\n",
              "    <tr>\n",
              "      <th>std</th>\n",
              "      <td>3.369578</td>\n",
              "      <td>31.972618</td>\n",
              "      <td>19.355807</td>\n",
              "      <td>15.952218</td>\n",
              "      <td>115.244002</td>\n",
              "      <td>7.884160</td>\n",
              "      <td>0.331329</td>\n",
              "      <td>11.760232</td>\n",
              "      <td>0.476951</td>\n",
              "    </tr>\n",
              "    <tr>\n",
              "      <th>min</th>\n",
              "      <td>0.000000</td>\n",
              "      <td>0.000000</td>\n",
              "      <td>0.000000</td>\n",
              "      <td>0.000000</td>\n",
              "      <td>0.000000</td>\n",
              "      <td>0.000000</td>\n",
              "      <td>0.078000</td>\n",
              "      <td>21.000000</td>\n",
              "      <td>0.000000</td>\n",
              "    </tr>\n",
              "    <tr>\n",
              "      <th>25%</th>\n",
              "      <td>1.000000</td>\n",
              "      <td>99.000000</td>\n",
              "      <td>62.000000</td>\n",
              "      <td>0.000000</td>\n",
              "      <td>0.000000</td>\n",
              "      <td>27.300000</td>\n",
              "      <td>0.243750</td>\n",
              "      <td>24.000000</td>\n",
              "      <td>0.000000</td>\n",
              "    </tr>\n",
              "    <tr>\n",
              "      <th>50%</th>\n",
              "      <td>3.000000</td>\n",
              "      <td>117.000000</td>\n",
              "      <td>72.000000</td>\n",
              "      <td>23.000000</td>\n",
              "      <td>30.500000</td>\n",
              "      <td>32.000000</td>\n",
              "      <td>0.372500</td>\n",
              "      <td>29.000000</td>\n",
              "      <td>0.000000</td>\n",
              "    </tr>\n",
              "    <tr>\n",
              "      <th>75%</th>\n",
              "      <td>6.000000</td>\n",
              "      <td>140.250000</td>\n",
              "      <td>80.000000</td>\n",
              "      <td>32.000000</td>\n",
              "      <td>127.250000</td>\n",
              "      <td>36.600000</td>\n",
              "      <td>0.626250</td>\n",
              "      <td>41.000000</td>\n",
              "      <td>1.000000</td>\n",
              "    </tr>\n",
              "    <tr>\n",
              "      <th>max</th>\n",
              "      <td>17.000000</td>\n",
              "      <td>199.000000</td>\n",
              "      <td>122.000000</td>\n",
              "      <td>99.000000</td>\n",
              "      <td>846.000000</td>\n",
              "      <td>67.100000</td>\n",
              "      <td>2.420000</td>\n",
              "      <td>81.000000</td>\n",
              "      <td>1.000000</td>\n",
              "    </tr>\n",
              "  </tbody>\n",
              "</table>\n",
              "</div>"
            ],
            "text/plain": [
              "         pregnant      plasma    pressure  ...    pedigree         age       class\n",
              "count  768.000000  768.000000  768.000000  ...  768.000000  768.000000  768.000000\n",
              "mean     3.845052  120.894531   69.105469  ...    0.471876   33.240885    0.348958\n",
              "std      3.369578   31.972618   19.355807  ...    0.331329   11.760232    0.476951\n",
              "min      0.000000    0.000000    0.000000  ...    0.078000   21.000000    0.000000\n",
              "25%      1.000000   99.000000   62.000000  ...    0.243750   24.000000    0.000000\n",
              "50%      3.000000  117.000000   72.000000  ...    0.372500   29.000000    0.000000\n",
              "75%      6.000000  140.250000   80.000000  ...    0.626250   41.000000    1.000000\n",
              "max     17.000000  199.000000  122.000000  ...    2.420000   81.000000    1.000000\n",
              "\n",
              "[8 rows x 9 columns]"
            ]
          },
          "metadata": {
            "tags": []
          },
          "execution_count": 7
        }
      ]
    },
    {
      "cell_type": "code",
      "metadata": {
        "colab": {
          "base_uri": "https://localhost:8080/",
          "height": 419
        },
        "id": "JEt7ZegyRW8s",
        "outputId": "27c5c37f-0c8b-4274-aaea-c5f32df64299"
      },
      "source": [
        "df[['age','BMI']]"
      ],
      "execution_count": 9,
      "outputs": [
        {
          "output_type": "execute_result",
          "data": {
            "text/html": [
              "<div>\n",
              "<style scoped>\n",
              "    .dataframe tbody tr th:only-of-type {\n",
              "        vertical-align: middle;\n",
              "    }\n",
              "\n",
              "    .dataframe tbody tr th {\n",
              "        vertical-align: top;\n",
              "    }\n",
              "\n",
              "    .dataframe thead th {\n",
              "        text-align: right;\n",
              "    }\n",
              "</style>\n",
              "<table border=\"1\" class=\"dataframe\">\n",
              "  <thead>\n",
              "    <tr style=\"text-align: right;\">\n",
              "      <th></th>\n",
              "      <th>age</th>\n",
              "      <th>BMI</th>\n",
              "    </tr>\n",
              "  </thead>\n",
              "  <tbody>\n",
              "    <tr>\n",
              "      <th>0</th>\n",
              "      <td>50</td>\n",
              "      <td>33.6</td>\n",
              "    </tr>\n",
              "    <tr>\n",
              "      <th>1</th>\n",
              "      <td>31</td>\n",
              "      <td>26.6</td>\n",
              "    </tr>\n",
              "    <tr>\n",
              "      <th>2</th>\n",
              "      <td>32</td>\n",
              "      <td>23.3</td>\n",
              "    </tr>\n",
              "    <tr>\n",
              "      <th>3</th>\n",
              "      <td>21</td>\n",
              "      <td>28.1</td>\n",
              "    </tr>\n",
              "    <tr>\n",
              "      <th>4</th>\n",
              "      <td>33</td>\n",
              "      <td>43.1</td>\n",
              "    </tr>\n",
              "    <tr>\n",
              "      <th>...</th>\n",
              "      <td>...</td>\n",
              "      <td>...</td>\n",
              "    </tr>\n",
              "    <tr>\n",
              "      <th>763</th>\n",
              "      <td>63</td>\n",
              "      <td>32.9</td>\n",
              "    </tr>\n",
              "    <tr>\n",
              "      <th>764</th>\n",
              "      <td>27</td>\n",
              "      <td>36.8</td>\n",
              "    </tr>\n",
              "    <tr>\n",
              "      <th>765</th>\n",
              "      <td>30</td>\n",
              "      <td>26.2</td>\n",
              "    </tr>\n",
              "    <tr>\n",
              "      <th>766</th>\n",
              "      <td>47</td>\n",
              "      <td>30.1</td>\n",
              "    </tr>\n",
              "    <tr>\n",
              "      <th>767</th>\n",
              "      <td>23</td>\n",
              "      <td>30.4</td>\n",
              "    </tr>\n",
              "  </tbody>\n",
              "</table>\n",
              "<p>768 rows × 2 columns</p>\n",
              "</div>"
            ],
            "text/plain": [
              "     age   BMI\n",
              "0     50  33.6\n",
              "1     31  26.6\n",
              "2     32  23.3\n",
              "3     21  28.1\n",
              "4     33  43.1\n",
              "..   ...   ...\n",
              "763   63  32.9\n",
              "764   27  36.8\n",
              "765   30  26.2\n",
              "766   47  30.1\n",
              "767   23  30.4\n",
              "\n",
              "[768 rows x 2 columns]"
            ]
          },
          "metadata": {
            "tags": []
          },
          "execution_count": 9
        }
      ]
    },
    {
      "cell_type": "markdown",
      "metadata": {
        "id": "VQ2aOHwORZ7f"
      },
      "source": [
        "## 데이터 가공"
      ]
    },
    {
      "cell_type": "code",
      "metadata": {
        "colab": {
          "base_uri": "https://localhost:8080/",
          "height": 576
        },
        "id": "YYvCu9DqRZjS",
        "outputId": "28bd02f2-f7a2-4d0f-b335-8486d55d6da6"
      },
      "source": [
        "# 당뇨병 질병을 예측 \r\n",
        "# 어떤 정보와 당뇨병 발병이 어떠한 관계에 있는지 살펴봐야함 \r\n",
        "new_group = df[['pregnant','class']].groupby(['pregnant'],as_index=False)\r\n",
        "new_group = new_group.mean().sort_values(by='pregnant',ascending=True)\r\n",
        "new_group\r\n",
        "# 임신 횟수당 발병 확률 테이블"
      ],
      "execution_count": 10,
      "outputs": [
        {
          "output_type": "execute_result",
          "data": {
            "text/html": [
              "<div>\n",
              "<style scoped>\n",
              "    .dataframe tbody tr th:only-of-type {\n",
              "        vertical-align: middle;\n",
              "    }\n",
              "\n",
              "    .dataframe tbody tr th {\n",
              "        vertical-align: top;\n",
              "    }\n",
              "\n",
              "    .dataframe thead th {\n",
              "        text-align: right;\n",
              "    }\n",
              "</style>\n",
              "<table border=\"1\" class=\"dataframe\">\n",
              "  <thead>\n",
              "    <tr style=\"text-align: right;\">\n",
              "      <th></th>\n",
              "      <th>pregnant</th>\n",
              "      <th>class</th>\n",
              "    </tr>\n",
              "  </thead>\n",
              "  <tbody>\n",
              "    <tr>\n",
              "      <th>0</th>\n",
              "      <td>0</td>\n",
              "      <td>0.342342</td>\n",
              "    </tr>\n",
              "    <tr>\n",
              "      <th>1</th>\n",
              "      <td>1</td>\n",
              "      <td>0.214815</td>\n",
              "    </tr>\n",
              "    <tr>\n",
              "      <th>2</th>\n",
              "      <td>2</td>\n",
              "      <td>0.184466</td>\n",
              "    </tr>\n",
              "    <tr>\n",
              "      <th>3</th>\n",
              "      <td>3</td>\n",
              "      <td>0.360000</td>\n",
              "    </tr>\n",
              "    <tr>\n",
              "      <th>4</th>\n",
              "      <td>4</td>\n",
              "      <td>0.338235</td>\n",
              "    </tr>\n",
              "    <tr>\n",
              "      <th>5</th>\n",
              "      <td>5</td>\n",
              "      <td>0.368421</td>\n",
              "    </tr>\n",
              "    <tr>\n",
              "      <th>6</th>\n",
              "      <td>6</td>\n",
              "      <td>0.320000</td>\n",
              "    </tr>\n",
              "    <tr>\n",
              "      <th>7</th>\n",
              "      <td>7</td>\n",
              "      <td>0.555556</td>\n",
              "    </tr>\n",
              "    <tr>\n",
              "      <th>8</th>\n",
              "      <td>8</td>\n",
              "      <td>0.578947</td>\n",
              "    </tr>\n",
              "    <tr>\n",
              "      <th>9</th>\n",
              "      <td>9</td>\n",
              "      <td>0.642857</td>\n",
              "    </tr>\n",
              "    <tr>\n",
              "      <th>10</th>\n",
              "      <td>10</td>\n",
              "      <td>0.416667</td>\n",
              "    </tr>\n",
              "    <tr>\n",
              "      <th>11</th>\n",
              "      <td>11</td>\n",
              "      <td>0.636364</td>\n",
              "    </tr>\n",
              "    <tr>\n",
              "      <th>12</th>\n",
              "      <td>12</td>\n",
              "      <td>0.444444</td>\n",
              "    </tr>\n",
              "    <tr>\n",
              "      <th>13</th>\n",
              "      <td>13</td>\n",
              "      <td>0.500000</td>\n",
              "    </tr>\n",
              "    <tr>\n",
              "      <th>14</th>\n",
              "      <td>14</td>\n",
              "      <td>1.000000</td>\n",
              "    </tr>\n",
              "    <tr>\n",
              "      <th>15</th>\n",
              "      <td>15</td>\n",
              "      <td>1.000000</td>\n",
              "    </tr>\n",
              "    <tr>\n",
              "      <th>16</th>\n",
              "      <td>17</td>\n",
              "      <td>1.000000</td>\n",
              "    </tr>\n",
              "  </tbody>\n",
              "</table>\n",
              "</div>"
            ],
            "text/plain": [
              "    pregnant     class\n",
              "0          0  0.342342\n",
              "1          1  0.214815\n",
              "2          2  0.184466\n",
              "3          3  0.360000\n",
              "4          4  0.338235\n",
              "5          5  0.368421\n",
              "6          6  0.320000\n",
              "7          7  0.555556\n",
              "8          8  0.578947\n",
              "9          9  0.642857\n",
              "10        10  0.416667\n",
              "11        11  0.636364\n",
              "12        12  0.444444\n",
              "13        13  0.500000\n",
              "14        14  1.000000\n",
              "15        15  1.000000\n",
              "16        17  1.000000"
            ]
          },
          "metadata": {
            "tags": []
          },
          "execution_count": 10
        }
      ]
    },
    {
      "cell_type": "markdown",
      "metadata": {
        "id": "eSS5L6PGRgQ-"
      },
      "source": [
        "## matplotlib를 활용하여 데이터 시각화"
      ]
    },
    {
      "cell_type": "code",
      "metadata": {
        "id": "N7XPBarmRkk9"
      },
      "source": [
        "import matplotlib.pyplot as plt\r\n",
        "import seaborn as sns"
      ],
      "execution_count": 11,
      "outputs": []
    },
    {
      "cell_type": "code",
      "metadata": {
        "colab": {
          "base_uri": "https://localhost:8080/",
          "height": 53
        },
        "id": "xUpsInykRn_U",
        "outputId": "e0cdefe7-0b2b-4e27-f6cb-be49f1461437"
      },
      "source": [
        "plt.figure(figsize=(12,12))"
      ],
      "execution_count": 13,
      "outputs": [
        {
          "output_type": "execute_result",
          "data": {
            "text/plain": [
              "<Figure size 864x864 with 0 Axes>"
            ]
          },
          "metadata": {
            "tags": []
          },
          "execution_count": 13
        },
        {
          "output_type": "display_data",
          "data": {
            "text/plain": [
              "<Figure size 864x864 with 0 Axes>"
            ]
          },
          "metadata": {
            "tags": []
          }
        }
      ]
    },
    {
      "cell_type": "markdown",
      "metadata": {
        "id": "FB0mlM9ORpeW"
      },
      "source": [
        "### 상관 관계도"
      ]
    },
    {
      "cell_type": "code",
      "metadata": {
        "colab": {
          "base_uri": "https://localhost:8080/",
          "height": 307
        },
        "id": "Qo_GjhUyRrpz",
        "outputId": "e24c736c-a15e-4d5f-eade-dc5b1774d0a5"
      },
      "source": [
        "sns.heatmap(df.corr(),linewidths=0.1,vmax=0.5,cmap=plt.cm.gist_heat,linecolor='white',annot=True)\r\n",
        "plt.show()"
      ],
      "execution_count": 15,
      "outputs": [
        {
          "output_type": "display_data",
          "data": {
            "image/png": "[encoded data removed]",
            "text/plain": [
              "<Figure size 432x288 with 2 Axes>"
            ]
          },
          "metadata": {
            "tags": [],
            "needs_background": "light"
          }
        }
      ]
    },
    {
      "cell_type": "markdown",
      "metadata": {
        "id": "MnMMUoA1R5UU"
      },
      "source": [
        "빠진 데이터를 채워넣거나 문자열 데이터를 숫자로 바꾸거나 전혀 관계가 없는 쓸모없는 데이터가 끼어있는걸 바꾸는 과정을 **데이터 전처리 과정** 이라 하며 모델 성능 향상을 위해 빠져서는 안되는 중요한 과정이다"
      ]
    },
    {
      "cell_type": "markdown",
      "metadata": {
        "id": "9t7BaFEwR-tc"
      },
      "source": [
        "### 모델 설정, 실행, 평가\r\n",
        "\r\n",
        "X와 Y의 분리"
      ]
    },
    {
      "cell_type": "code",
      "metadata": {
        "colab": {
          "base_uri": "https://localhost:8080/",
          "height": 419
        },
        "id": "s2rD4ksGR9xU",
        "outputId": "e4fde2da-903a-4881-b83c-91b7ba275fdd"
      },
      "source": [
        "x_data = df.iloc[:,:8]\r\n",
        "y_data = df.iloc[:,8]\r\n",
        "\r\n",
        "x_data"
      ],
      "execution_count": 16,
      "outputs": [
        {
          "output_type": "execute_result",
          "data": {
            "text/html": [
              "<div>\n",
              "<style scoped>\n",
              "    .dataframe tbody tr th:only-of-type {\n",
              "        vertical-align: middle;\n",
              "    }\n",
              "\n",
              "    .dataframe tbody tr th {\n",
              "        vertical-align: top;\n",
              "    }\n",
              "\n",
              "    .dataframe thead th {\n",
              "        text-align: right;\n",
              "    }\n",
              "</style>\n",
              "<table border=\"1\" class=\"dataframe\">\n",
              "  <thead>\n",
              "    <tr style=\"text-align: right;\">\n",
              "      <th></th>\n",
              "      <th>pregnant</th>\n",
              "      <th>plasma</th>\n",
              "      <th>pressure</th>\n",
              "      <th>thickness</th>\n",
              "      <th>insulin</th>\n",
              "      <th>BMI</th>\n",
              "      <th>pedigree</th>\n",
              "      <th>age</th>\n",
              "    </tr>\n",
              "  </thead>\n",
              "  <tbody>\n",
              "    <tr>\n",
              "      <th>0</th>\n",
              "      <td>6</td>\n",
              "      <td>148</td>\n",
              "      <td>72</td>\n",
              "      <td>35</td>\n",
              "      <td>0</td>\n",
              "      <td>33.6</td>\n",
              "      <td>0.627</td>\n",
              "      <td>50</td>\n",
              "    </tr>\n",
              "    <tr>\n",
              "      <th>1</th>\n",
              "      <td>1</td>\n",
              "      <td>85</td>\n",
              "      <td>66</td>\n",
              "      <td>29</td>\n",
              "      <td>0</td>\n",
              "      <td>26.6</td>\n",
              "      <td>0.351</td>\n",
              "      <td>31</td>\n",
              "    </tr>\n",
              "    <tr>\n",
              "      <th>2</th>\n",
              "      <td>8</td>\n",
              "      <td>183</td>\n",
              "      <td>64</td>\n",
              "      <td>0</td>\n",
              "      <td>0</td>\n",
              "      <td>23.3</td>\n",
              "      <td>0.672</td>\n",
              "      <td>32</td>\n",
              "    </tr>\n",
              "    <tr>\n",
              "      <th>3</th>\n",
              "      <td>1</td>\n",
              "      <td>89</td>\n",
              "      <td>66</td>\n",
              "      <td>23</td>\n",
              "      <td>94</td>\n",
              "      <td>28.1</td>\n",
              "      <td>0.167</td>\n",
              "      <td>21</td>\n",
              "    </tr>\n",
              "    <tr>\n",
              "      <th>4</th>\n",
              "      <td>0</td>\n",
              "      <td>137</td>\n",
              "      <td>40</td>\n",
              "      <td>35</td>\n",
              "      <td>168</td>\n",
              "      <td>43.1</td>\n",
              "      <td>2.288</td>\n",
              "      <td>33</td>\n",
              "    </tr>\n",
              "    <tr>\n",
              "      <th>...</th>\n",
              "      <td>...</td>\n",
              "      <td>...</td>\n",
              "      <td>...</td>\n",
              "      <td>...</td>\n",
              "      <td>...</td>\n",
              "      <td>...</td>\n",
              "      <td>...</td>\n",
              "      <td>...</td>\n",
              "    </tr>\n",
              "    <tr>\n",
              "      <th>763</th>\n",
              "      <td>10</td>\n",
              "      <td>101</td>\n",
              "      <td>76</td>\n",
              "      <td>48</td>\n",
              "      <td>180</td>\n",
              "      <td>32.9</td>\n",
              "      <td>0.171</td>\n",
              "      <td>63</td>\n",
              "    </tr>\n",
              "    <tr>\n",
              "      <th>764</th>\n",
              "      <td>2</td>\n",
              "      <td>122</td>\n",
              "      <td>70</td>\n",
              "      <td>27</td>\n",
              "      <td>0</td>\n",
              "      <td>36.8</td>\n",
              "      <td>0.340</td>\n",
              "      <td>27</td>\n",
              "    </tr>\n",
              "    <tr>\n",
              "      <th>765</th>\n",
              "      <td>5</td>\n",
              "      <td>121</td>\n",
              "      <td>72</td>\n",
              "      <td>23</td>\n",
              "      <td>112</td>\n",
              "      <td>26.2</td>\n",
              "      <td>0.245</td>\n",
              "      <td>30</td>\n",
              "    </tr>\n",
              "    <tr>\n",
              "      <th>766</th>\n",
              "      <td>1</td>\n",
              "      <td>126</td>\n",
              "      <td>60</td>\n",
              "      <td>0</td>\n",
              "      <td>0</td>\n",
              "      <td>30.1</td>\n",
              "      <td>0.349</td>\n",
              "      <td>47</td>\n",
              "    </tr>\n",
              "    <tr>\n",
              "      <th>767</th>\n",
              "      <td>1</td>\n",
              "      <td>93</td>\n",
              "      <td>70</td>\n",
              "      <td>31</td>\n",
              "      <td>0</td>\n",
              "      <td>30.4</td>\n",
              "      <td>0.315</td>\n",
              "      <td>23</td>\n",
              "    </tr>\n",
              "  </tbody>\n",
              "</table>\n",
              "<p>768 rows × 8 columns</p>\n",
              "</div>"
            ],
            "text/plain": [
              "     pregnant  plasma  pressure  thickness  insulin   BMI  pedigree  age\n",
              "0           6     148        72         35        0  33.6     0.627   50\n",
              "1           1      85        66         29        0  26.6     0.351   31\n",
              "2           8     183        64          0        0  23.3     0.672   32\n",
              "3           1      89        66         23       94  28.1     0.167   21\n",
              "4           0     137        40         35      168  43.1     2.288   33\n",
              "..        ...     ...       ...        ...      ...   ...       ...  ...\n",
              "763        10     101        76         48      180  32.9     0.171   63\n",
              "764         2     122        70         27        0  36.8     0.340   27\n",
              "765         5     121        72         23      112  26.2     0.245   30\n",
              "766         1     126        60          0        0  30.1     0.349   47\n",
              "767         1      93        70         31        0  30.4     0.315   23\n",
              "\n",
              "[768 rows x 8 columns]"
            ]
          },
          "metadata": {
            "tags": []
          },
          "execution_count": 16
        }
      ]
    },
    {
      "cell_type": "code",
      "metadata": {
        "colab": {
          "base_uri": "https://localhost:8080/"
        },
        "id": "XGm6a4POSGkz",
        "outputId": "06ae85f0-6cec-46df-ccf3-57850082489a"
      },
      "source": [
        "y_data"
      ],
      "execution_count": 17,
      "outputs": [
        {
          "output_type": "execute_result",
          "data": {
            "text/plain": [
              "0      1\n",
              "1      0\n",
              "2      1\n",
              "3      0\n",
              "4      1\n",
              "      ..\n",
              "763    0\n",
              "764    0\n",
              "765    0\n",
              "766    1\n",
              "767    0\n",
              "Name: class, Length: 768, dtype: int64"
            ]
          },
          "metadata": {
            "tags": []
          },
          "execution_count": 17
        }
      ]
    },
    {
      "cell_type": "markdown",
      "metadata": {
        "id": "Rw-tSn6QSIdP"
      },
      "source": [
        "모델 설정"
      ]
    },
    {
      "cell_type": "code",
      "metadata": {
        "id": "0QEd3QlNSW-V"
      },
      "source": [
        "from tensorflow.keras.models import Sequential\r\n",
        "from tensorflow.keras.layers import Dense\r\n",
        "from tensorflow.keras import optimizers\r\n",
        "import tensorflow as tf"
      ],
      "execution_count": 21,
      "outputs": []
    },
    {
      "cell_type": "code",
      "metadata": {
        "id": "DG5qvuphSHdm"
      },
      "source": [
        "model = Sequential()\r\n",
        "model.add(Dense(16,input_dim = 8 ,activation='relu')) # 입력층,16 개의 노드, 입력(x)의 차원 8,활성화함수 relu\r\n",
        "model.add(Dense(8, activation='relu')) # 은닉층 8 개의 노드, 활성화함수 relu\r\n",
        "model.add(Dense(4, activation='relu')) # 은닉층 4 개의 노드, 활성화함수 relu\r\n",
        "model.add(Dense(1,activation='sigmoid')) # 출력층 , 활성화함수 sigmoid\r\n",
        "\r\n",
        "optim = optimizers.Adam(learning_rate=0.005)  ## 옵티마이저 설정(경사하강법 등)\r\n",
        "model.compile(optimizer = optim,loss='binary_crossentropy',metrics=['accuracy']) #손실함수를 교차엔트로피로"
      ],
      "execution_count": 22,
      "outputs": []
    },
    {
      "cell_type": "markdown",
      "metadata": {
        "id": "_3eSF11tSfDo"
      },
      "source": [
        "모델 학습 실행"
      ]
    },
    {
      "cell_type": "code",
      "metadata": {
        "colab": {
          "base_uri": "https://localhost:8080/"
        },
        "id": "wo9b3iHJSgSQ",
        "outputId": "c29927a9-3e2e-4bad-a33d-864dd7ea7aae"
      },
      "source": [
        "model.fit(x_data,y_data,epochs=200,batch_size=4)"
      ],
      "execution_count": 23,
      "outputs": [
        {
          "output_type": "stream",
          "text": [
            "Epoch 1/200\n",
            "192/192 [==============================] - 1s 1ms/step - loss: 0.7817 - accuracy: 0.6440\n",
            "Epoch 2/200\n",
            "192/192 [==============================] - 0s 1ms/step - loss: 0.6501 - accuracy: 0.6582\n",
            "Epoch 3/200\n",
            "192/192 [==============================] - 0s 1ms/step - loss: 0.6366 - accuracy: 0.6729\n",
            "Epoch 4/200\n",
            "192/192 [==============================] - 0s 1ms/step - loss: 0.6556 - accuracy: 0.6366\n",
            "Epoch 5/200\n",
            "192/192 [==============================] - 0s 1ms/step - loss: 0.6566 - accuracy: 0.6358\n",
            "Epoch 6/200\n",
            "192/192 [==============================] - 0s 1ms/step - loss: 0.6363 - accuracy: 0.6686\n",
            "Epoch 7/200\n",
            "192/192 [==============================] - 0s 1ms/step - loss: 0.6347 - accuracy: 0.6707\n",
            "Epoch 8/200\n",
            "192/192 [==============================] - 0s 1ms/step - loss: 0.6666 - accuracy: 0.6191\n",
            "Epoch 9/200\n",
            "192/192 [==============================] - 0s 1ms/step - loss: 0.6436 - accuracy: 0.6564\n",
            "Epoch 10/200\n",
            "192/192 [==============================] - 0s 1ms/step - loss: 0.6343 - accuracy: 0.6715\n",
            "Epoch 11/200\n",
            "192/192 [==============================] - 0s 1ms/step - loss: 0.6458 - accuracy: 0.6528\n",
            "Epoch 12/200\n",
            "192/192 [==============================] - 0s 1ms/step - loss: 0.6234 - accuracy: 0.6884\n",
            "Epoch 13/200\n",
            "192/192 [==============================] - 0s 1ms/step - loss: 0.6424 - accuracy: 0.6591\n",
            "Epoch 14/200\n",
            "192/192 [==============================] - 0s 1ms/step - loss: 0.6387 - accuracy: 0.6646\n",
            "Epoch 15/200\n",
            "192/192 [==============================] - 0s 1ms/step - loss: 0.6342 - accuracy: 0.6717\n",
            "Epoch 16/200\n",
            "192/192 [==============================] - 0s 1ms/step - loss: 0.6480 - accuracy: 0.6495\n",
            "Epoch 17/200\n",
            "192/192 [==============================] - 0s 1ms/step - loss: 0.6415 - accuracy: 0.6603\n",
            "Epoch 18/200\n",
            "192/192 [==============================] - 0s 1ms/step - loss: 0.6440 - accuracy: 0.6559\n",
            "Epoch 19/200\n",
            "192/192 [==============================] - 0s 1ms/step - loss: 0.6533 - accuracy: 0.6413\n",
            "Epoch 20/200\n",
            "192/192 [==============================] - 0s 1ms/step - loss: 0.6601 - accuracy: 0.6304\n",
            "Epoch 21/200\n",
            "192/192 [==============================] - 0s 1ms/step - loss: 0.6576 - accuracy: 0.6344\n",
            "Epoch 22/200\n",
            "192/192 [==============================] - 0s 1ms/step - loss: 0.6438 - accuracy: 0.6560\n",
            "Epoch 23/200\n",
            "192/192 [==============================] - 0s 1ms/step - loss: 0.6344 - accuracy: 0.6710\n",
            "Epoch 24/200\n",
            "192/192 [==============================] - 0s 1ms/step - loss: 0.6461 - accuracy: 0.6526\n",
            "Epoch 25/200\n",
            "192/192 [==============================] - 0s 995us/step - loss: 0.6388 - accuracy: 0.6640\n",
            "Epoch 26/200\n",
            "192/192 [==============================] - 0s 1ms/step - loss: 0.6333 - accuracy: 0.6734\n",
            "Epoch 27/200\n",
            "192/192 [==============================] - 0s 1ms/step - loss: 0.6668 - accuracy: 0.6183\n",
            "Epoch 28/200\n",
            "192/192 [==============================] - 0s 1ms/step - loss: 0.6443 - accuracy: 0.6553\n",
            "Epoch 29/200\n",
            "192/192 [==============================] - 0s 1ms/step - loss: 0.6652 - accuracy: 0.6219\n",
            "Epoch 30/200\n",
            "192/192 [==============================] - 0s 1ms/step - loss: 0.6443 - accuracy: 0.6556\n",
            "Epoch 31/200\n",
            "192/192 [==============================] - 0s 994us/step - loss: 0.6469 - accuracy: 0.6515\n",
            "Epoch 32/200\n",
            "192/192 [==============================] - 0s 1ms/step - loss: 0.6431 - accuracy: 0.6578\n",
            "Epoch 33/200\n",
            "192/192 [==============================] - 0s 1ms/step - loss: 0.6513 - accuracy: 0.6441\n",
            "Epoch 34/200\n",
            "192/192 [==============================] - 0s 1ms/step - loss: 0.6433 - accuracy: 0.6574\n",
            "Epoch 35/200\n",
            "192/192 [==============================] - 0s 1ms/step - loss: 0.6509 - accuracy: 0.6449\n",
            "Epoch 36/200\n",
            "192/192 [==============================] - 0s 1ms/step - loss: 0.6514 - accuracy: 0.6443\n",
            "Epoch 37/200\n",
            "192/192 [==============================] - 0s 1ms/step - loss: 0.6499 - accuracy: 0.6469\n",
            "Epoch 38/200\n",
            "192/192 [==============================] - 0s 1ms/step - loss: 0.6565 - accuracy: 0.6361\n",
            "Epoch 39/200\n",
            "192/192 [==============================] - 0s 1ms/step - loss: 0.6543 - accuracy: 0.6399\n",
            "Epoch 40/200\n",
            "192/192 [==============================] - 0s 1ms/step - loss: 0.6524 - accuracy: 0.6426\n",
            "Epoch 41/200\n",
            "192/192 [==============================] - 0s 1ms/step - loss: 0.6324 - accuracy: 0.6734\n",
            "Epoch 42/200\n",
            "192/192 [==============================] - 0s 1ms/step - loss: 0.6404 - accuracy: 0.6620\n",
            "Epoch 43/200\n",
            "192/192 [==============================] - 0s 1ms/step - loss: 0.6613 - accuracy: 0.6272\n",
            "Epoch 44/200\n",
            "192/192 [==============================] - 0s 1ms/step - loss: 0.6367 - accuracy: 0.6678\n",
            "Epoch 45/200\n",
            "192/192 [==============================] - 0s 1ms/step - loss: 0.6537 - accuracy: 0.6400\n",
            "Epoch 46/200\n",
            "192/192 [==============================] - 0s 1ms/step - loss: 0.6444 - accuracy: 0.6552\n",
            "Epoch 47/200\n",
            "192/192 [==============================] - 0s 1ms/step - loss: 0.6690 - accuracy: 0.6158\n",
            "Epoch 48/200\n",
            "192/192 [==============================] - 0s 1ms/step - loss: 0.6398 - accuracy: 0.6623\n",
            "Epoch 49/200\n",
            "192/192 [==============================] - 0s 1ms/step - loss: 0.6405 - accuracy: 0.6617\n",
            "Epoch 50/200\n",
            "192/192 [==============================] - 0s 1ms/step - loss: 0.6657 - accuracy: 0.6210\n",
            "Epoch 51/200\n",
            "192/192 [==============================] - 0s 1ms/step - loss: 0.6427 - accuracy: 0.6578\n",
            "Epoch 52/200\n",
            "192/192 [==============================] - 0s 1ms/step - loss: 0.6348 - accuracy: 0.6705\n",
            "Epoch 53/200\n",
            "192/192 [==============================] - 0s 1ms/step - loss: 0.6447 - accuracy: 0.6550\n",
            "Epoch 54/200\n",
            "192/192 [==============================] - 0s 1ms/step - loss: 0.6479 - accuracy: 0.6496\n",
            "Epoch 55/200\n",
            "192/192 [==============================] - 0s 1ms/step - loss: 0.6558 - accuracy: 0.6373\n",
            "Epoch 56/200\n",
            "192/192 [==============================] - 0s 1ms/step - loss: 0.6263 - accuracy: 0.6842\n",
            "Epoch 57/200\n",
            "192/192 [==============================] - 0s 1ms/step - loss: 0.6454 - accuracy: 0.6537\n",
            "Epoch 58/200\n",
            "192/192 [==============================] - 0s 1ms/step - loss: 0.6457 - accuracy: 0.6532\n",
            "Epoch 59/200\n",
            "192/192 [==============================] - 0s 1ms/step - loss: 0.6343 - accuracy: 0.6711\n",
            "Epoch 60/200\n",
            "192/192 [==============================] - 0s 1ms/step - loss: 0.6380 - accuracy: 0.6657\n",
            "Epoch 61/200\n",
            "192/192 [==============================] - 0s 1ms/step - loss: 0.6297 - accuracy: 0.6791\n",
            "Epoch 62/200\n",
            "192/192 [==============================] - 0s 1ms/step - loss: 0.6461 - accuracy: 0.6525\n",
            "Epoch 63/200\n",
            "192/192 [==============================] - 0s 1ms/step - loss: 0.6549 - accuracy: 0.6381\n",
            "Epoch 64/200\n",
            "192/192 [==============================] - 0s 1ms/step - loss: 0.6339 - accuracy: 0.6714\n",
            "Epoch 65/200\n",
            "192/192 [==============================] - 0s 1ms/step - loss: 0.6392 - accuracy: 0.6635\n",
            "Epoch 66/200\n",
            "192/192 [==============================] - 0s 1ms/step - loss: 0.6558 - accuracy: 0.6368\n",
            "Epoch 67/200\n",
            "192/192 [==============================] - 0s 1ms/step - loss: 0.6475 - accuracy: 0.6506\n",
            "Epoch 68/200\n",
            "192/192 [==============================] - 0s 1ms/step - loss: 0.6274 - accuracy: 0.6829\n",
            "Epoch 69/200\n",
            "192/192 [==============================] - 0s 1ms/step - loss: 0.6624 - accuracy: 0.6260\n",
            "Epoch 70/200\n",
            "192/192 [==============================] - 0s 1ms/step - loss: 0.6423 - accuracy: 0.6587\n",
            "Epoch 71/200\n",
            "192/192 [==============================] - 0s 1ms/step - loss: 0.6346 - accuracy: 0.6716\n",
            "Epoch 72/200\n",
            "192/192 [==============================] - 0s 1ms/step - loss: 0.6334 - accuracy: 0.6732\n",
            "Epoch 73/200\n",
            "192/192 [==============================] - 0s 1ms/step - loss: 0.6438 - accuracy: 0.6563\n",
            "Epoch 74/200\n",
            "192/192 [==============================] - 0s 1ms/step - loss: 0.6380 - accuracy: 0.6660\n",
            "Epoch 75/200\n",
            "192/192 [==============================] - 0s 1ms/step - loss: 0.6506 - accuracy: 0.6451\n",
            "Epoch 76/200\n",
            "192/192 [==============================] - 0s 1ms/step - loss: 0.6596 - accuracy: 0.6308\n",
            "Epoch 77/200\n",
            "192/192 [==============================] - 0s 1ms/step - loss: 0.6407 - accuracy: 0.6614\n",
            "Epoch 78/200\n",
            "192/192 [==============================] - 0s 1ms/step - loss: 0.6374 - accuracy: 0.6664\n",
            "Epoch 79/200\n",
            "192/192 [==============================] - 0s 1ms/step - loss: 0.6626 - accuracy: 0.6256\n",
            "Epoch 80/200\n",
            "192/192 [==============================] - 0s 1ms/step - loss: 0.6468 - accuracy: 0.6515\n",
            "Epoch 81/200\n",
            "192/192 [==============================] - 0s 1ms/step - loss: 0.6460 - accuracy: 0.6530\n",
            "Epoch 82/200\n",
            "192/192 [==============================] - 0s 1ms/step - loss: 0.6524 - accuracy: 0.6425\n",
            "Epoch 83/200\n",
            "192/192 [==============================] - 0s 1ms/step - loss: 0.6629 - accuracy: 0.6256\n",
            "Epoch 84/200\n",
            "192/192 [==============================] - 0s 1ms/step - loss: 0.6432 - accuracy: 0.6571\n",
            "Epoch 85/200\n",
            "192/192 [==============================] - 0s 1ms/step - loss: 0.6362 - accuracy: 0.6685\n",
            "Epoch 86/200\n",
            "192/192 [==============================] - 0s 1ms/step - loss: 0.6317 - accuracy: 0.6756\n",
            "Epoch 87/200\n",
            "192/192 [==============================] - 0s 1ms/step - loss: 0.6519 - accuracy: 0.6431\n",
            "Epoch 88/200\n",
            "192/192 [==============================] - 0s 1ms/step - loss: 0.6430 - accuracy: 0.6576\n",
            "Epoch 89/200\n",
            "192/192 [==============================] - 0s 1ms/step - loss: 0.6518 - accuracy: 0.6433\n",
            "Epoch 90/200\n",
            "192/192 [==============================] - 0s 1ms/step - loss: 0.6550 - accuracy: 0.6386\n",
            "Epoch 91/200\n",
            "192/192 [==============================] - 0s 1ms/step - loss: 0.6547 - accuracy: 0.6390\n",
            "Epoch 92/200\n",
            "192/192 [==============================] - 0s 1ms/step - loss: 0.6408 - accuracy: 0.6608\n",
            "Epoch 93/200\n",
            "192/192 [==============================] - 0s 1ms/step - loss: 0.6638 - accuracy: 0.6237\n",
            "Epoch 94/200\n",
            "192/192 [==============================] - 0s 1ms/step - loss: 0.6464 - accuracy: 0.6522\n",
            "Epoch 95/200\n",
            "192/192 [==============================] - 0s 1ms/step - loss: 0.6640 - accuracy: 0.6239\n",
            "Epoch 96/200\n",
            "192/192 [==============================] - 0s 1ms/step - loss: 0.6481 - accuracy: 0.6497\n",
            "Epoch 97/200\n",
            "192/192 [==============================] - 0s 1ms/step - loss: 0.6440 - accuracy: 0.6558\n",
            "Epoch 98/200\n",
            "192/192 [==============================] - 0s 1ms/step - loss: 0.6586 - accuracy: 0.6319\n",
            "Epoch 99/200\n",
            "192/192 [==============================] - 0s 1ms/step - loss: 0.6516 - accuracy: 0.6438\n",
            "Epoch 100/200\n",
            "192/192 [==============================] - 0s 1ms/step - loss: 0.6592 - accuracy: 0.6317\n",
            "Epoch 101/200\n",
            "192/192 [==============================] - 0s 1ms/step - loss: 0.6588 - accuracy: 0.6332\n",
            "Epoch 102/200\n",
            "192/192 [==============================] - 0s 1ms/step - loss: 0.6438 - accuracy: 0.6566\n",
            "Epoch 103/200\n",
            "192/192 [==============================] - 0s 1ms/step - loss: 0.6324 - accuracy: 0.6742\n",
            "Epoch 104/200\n",
            "192/192 [==============================] - 0s 1ms/step - loss: 0.6412 - accuracy: 0.6603\n",
            "Epoch 105/200\n",
            "192/192 [==============================] - 0s 1ms/step - loss: 0.6539 - accuracy: 0.6400\n",
            "Epoch 106/200\n",
            "192/192 [==============================] - 0s 1ms/step - loss: 0.6330 - accuracy: 0.6730\n",
            "Epoch 107/200\n",
            "192/192 [==============================] - 0s 1ms/step - loss: 0.6486 - accuracy: 0.6485\n",
            "Epoch 108/200\n",
            "192/192 [==============================] - 0s 1ms/step - loss: 0.6458 - accuracy: 0.6533\n",
            "Epoch 109/200\n",
            "192/192 [==============================] - 0s 1ms/step - loss: 0.6554 - accuracy: 0.6372\n",
            "Epoch 110/200\n",
            "192/192 [==============================] - 0s 1ms/step - loss: 0.6472 - accuracy: 0.6507\n",
            "Epoch 111/200\n",
            "192/192 [==============================] - 0s 1ms/step - loss: 0.6483 - accuracy: 0.6491\n",
            "Epoch 112/200\n",
            "192/192 [==============================] - 0s 1ms/step - loss: 0.6532 - accuracy: 0.6414\n",
            "Epoch 113/200\n",
            "192/192 [==============================] - 0s 1ms/step - loss: 0.6535 - accuracy: 0.6409\n",
            "Epoch 114/200\n",
            "192/192 [==============================] - 0s 1ms/step - loss: 0.6285 - accuracy: 0.6800\n",
            "Epoch 115/200\n",
            "192/192 [==============================] - 0s 1ms/step - loss: 0.6633 - accuracy: 0.6246\n",
            "Epoch 116/200\n",
            "192/192 [==============================] - 0s 1ms/step - loss: 0.6516 - accuracy: 0.6442\n",
            "Epoch 117/200\n",
            "192/192 [==============================] - 0s 1ms/step - loss: 0.6604 - accuracy: 0.6307\n",
            "Epoch 118/200\n",
            "192/192 [==============================] - 0s 1ms/step - loss: 0.6392 - accuracy: 0.6636\n",
            "Epoch 119/200\n",
            "192/192 [==============================] - 0s 1ms/step - loss: 0.6578 - accuracy: 0.6339\n",
            "Epoch 120/200\n",
            "192/192 [==============================] - 0s 1ms/step - loss: 0.6437 - accuracy: 0.6566\n",
            "Epoch 121/200\n",
            "192/192 [==============================] - 0s 1ms/step - loss: 0.6467 - accuracy: 0.6519\n",
            "Epoch 122/200\n",
            "192/192 [==============================] - 0s 1ms/step - loss: 0.6522 - accuracy: 0.6426\n",
            "Epoch 123/200\n",
            "192/192 [==============================] - 0s 1ms/step - loss: 0.6477 - accuracy: 0.6501\n",
            "Epoch 124/200\n",
            "192/192 [==============================] - 0s 1ms/step - loss: 0.6361 - accuracy: 0.6683\n",
            "Epoch 125/200\n",
            "192/192 [==============================] - 0s 1ms/step - loss: 0.6504 - accuracy: 0.6456\n",
            "Epoch 126/200\n",
            "192/192 [==============================] - 0s 1ms/step - loss: 0.6553 - accuracy: 0.6378\n",
            "Epoch 127/200\n",
            "192/192 [==============================] - 0s 1ms/step - loss: 0.6600 - accuracy: 0.6304\n",
            "Epoch 128/200\n",
            "192/192 [==============================] - 0s 1ms/step - loss: 0.6308 - accuracy: 0.6770\n",
            "Epoch 129/200\n",
            "192/192 [==============================] - 0s 1ms/step - loss: 0.6543 - accuracy: 0.6392\n",
            "Epoch 130/200\n",
            "192/192 [==============================] - 0s 1ms/step - loss: 0.6495 - accuracy: 0.6471\n",
            "Epoch 131/200\n",
            "192/192 [==============================] - 0s 1ms/step - loss: 0.6377 - accuracy: 0.6660\n",
            "Epoch 132/200\n",
            "192/192 [==============================] - 0s 1ms/step - loss: 0.6435 - accuracy: 0.6571\n",
            "Epoch 133/200\n",
            "192/192 [==============================] - 0s 1ms/step - loss: 0.6454 - accuracy: 0.6538\n",
            "Epoch 134/200\n",
            "192/192 [==============================] - 0s 1ms/step - loss: 0.6514 - accuracy: 0.6442\n",
            "Epoch 135/200\n",
            "192/192 [==============================] - 0s 1ms/step - loss: 0.6484 - accuracy: 0.6493\n",
            "Epoch 136/200\n",
            "192/192 [==============================] - 0s 1ms/step - loss: 0.6446 - accuracy: 0.6551\n",
            "Epoch 137/200\n",
            "192/192 [==============================] - 0s 1ms/step - loss: 0.6563 - accuracy: 0.6362\n",
            "Epoch 138/200\n",
            "192/192 [==============================] - 0s 1ms/step - loss: 0.6478 - accuracy: 0.6502\n",
            "Epoch 139/200\n",
            "192/192 [==============================] - 0s 2ms/step - loss: 0.6391 - accuracy: 0.6642\n",
            "Epoch 140/200\n",
            "192/192 [==============================] - 0s 1ms/step - loss: 0.6288 - accuracy: 0.6798\n",
            "Epoch 141/200\n",
            "192/192 [==============================] - 0s 2ms/step - loss: 0.6554 - accuracy: 0.6371\n",
            "Epoch 142/200\n",
            "192/192 [==============================] - 0s 1ms/step - loss: 0.6458 - accuracy: 0.6531\n",
            "Epoch 143/200\n",
            "192/192 [==============================] - 0s 1ms/step - loss: 0.6566 - accuracy: 0.6357\n",
            "Epoch 144/200\n",
            "192/192 [==============================] - 0s 1ms/step - loss: 0.6284 - accuracy: 0.6807\n",
            "Epoch 145/200\n",
            "192/192 [==============================] - 0s 1ms/step - loss: 0.6618 - accuracy: 0.6276\n",
            "Epoch 146/200\n",
            "192/192 [==============================] - 0s 1ms/step - loss: 0.6582 - accuracy: 0.6330\n",
            "Epoch 147/200\n",
            "192/192 [==============================] - 0s 1ms/step - loss: 0.6343 - accuracy: 0.6710\n",
            "Epoch 148/200\n",
            "192/192 [==============================] - 0s 2ms/step - loss: 0.6345 - accuracy: 0.6708\n",
            "Epoch 149/200\n",
            "192/192 [==============================] - 0s 1ms/step - loss: 0.6641 - accuracy: 0.6240\n",
            "Epoch 150/200\n",
            "192/192 [==============================] - 0s 1ms/step - loss: 0.6436 - accuracy: 0.6567\n",
            "Epoch 151/200\n",
            "192/192 [==============================] - 0s 1ms/step - loss: 0.6654 - accuracy: 0.6213\n",
            "Epoch 152/200\n",
            "192/192 [==============================] - 0s 1ms/step - loss: 0.6384 - accuracy: 0.6648\n",
            "Epoch 153/200\n",
            "192/192 [==============================] - 0s 1ms/step - loss: 0.6524 - accuracy: 0.6424\n",
            "Epoch 154/200\n",
            "192/192 [==============================] - 0s 1ms/step - loss: 0.6487 - accuracy: 0.6484\n",
            "Epoch 155/200\n",
            "192/192 [==============================] - 0s 1ms/step - loss: 0.6422 - accuracy: 0.6590\n",
            "Epoch 156/200\n",
            "192/192 [==============================] - 0s 1ms/step - loss: 0.6406 - accuracy: 0.6615\n",
            "Epoch 157/200\n",
            "192/192 [==============================] - 0s 1ms/step - loss: 0.6400 - accuracy: 0.6624\n",
            "Epoch 158/200\n",
            "192/192 [==============================] - 0s 1ms/step - loss: 0.6507 - accuracy: 0.6449\n",
            "Epoch 159/200\n",
            "192/192 [==============================] - 0s 1ms/step - loss: 0.6396 - accuracy: 0.6633\n",
            "Epoch 160/200\n",
            "192/192 [==============================] - 0s 1ms/step - loss: 0.6567 - accuracy: 0.6354\n",
            "Epoch 161/200\n",
            "192/192 [==============================] - 0s 1ms/step - loss: 0.6523 - accuracy: 0.6427\n",
            "Epoch 162/200\n",
            "192/192 [==============================] - 0s 1ms/step - loss: 0.6504 - accuracy: 0.6457\n",
            "Epoch 163/200\n",
            "192/192 [==============================] - 0s 1ms/step - loss: 0.6392 - accuracy: 0.6634\n",
            "Epoch 164/200\n",
            "192/192 [==============================] - 0s 1ms/step - loss: 0.6512 - accuracy: 0.6441\n",
            "Epoch 165/200\n",
            "192/192 [==============================] - 0s 1ms/step - loss: 0.6469 - accuracy: 0.6512\n",
            "Epoch 166/200\n",
            "192/192 [==============================] - 0s 1ms/step - loss: 0.6343 - accuracy: 0.6714\n",
            "Epoch 167/200\n",
            "192/192 [==============================] - 0s 1ms/step - loss: 0.6630 - accuracy: 0.6250\n",
            "Epoch 168/200\n",
            "192/192 [==============================] - 0s 1ms/step - loss: 0.6253 - accuracy: 0.6855\n",
            "Epoch 169/200\n",
            "192/192 [==============================] - 0s 1ms/step - loss: 0.6285 - accuracy: 0.6810\n",
            "Epoch 170/200\n",
            "192/192 [==============================] - 0s 1ms/step - loss: 0.6299 - accuracy: 0.6794\n",
            "Epoch 171/200\n",
            "192/192 [==============================] - 0s 1ms/step - loss: 0.6416 - accuracy: 0.6601\n",
            "Epoch 172/200\n",
            "192/192 [==============================] - 0s 1ms/step - loss: 0.6449 - accuracy: 0.6549\n",
            "Epoch 173/200\n",
            "192/192 [==============================] - 0s 1ms/step - loss: 0.6601 - accuracy: 0.6302\n",
            "Epoch 174/200\n",
            "192/192 [==============================] - 0s 1ms/step - loss: 0.6456 - accuracy: 0.6534\n",
            "Epoch 175/200\n",
            "192/192 [==============================] - 0s 1ms/step - loss: 0.6529 - accuracy: 0.6419\n",
            "Epoch 176/200\n",
            "192/192 [==============================] - 0s 1ms/step - loss: 0.6368 - accuracy: 0.6670\n",
            "Epoch 177/200\n",
            "192/192 [==============================] - 0s 1ms/step - loss: 0.6529 - accuracy: 0.6416\n",
            "Epoch 178/200\n",
            "192/192 [==============================] - 0s 1ms/step - loss: 0.6399 - accuracy: 0.6629\n",
            "Epoch 179/200\n",
            "192/192 [==============================] - 0s 1ms/step - loss: 0.6334 - accuracy: 0.6732\n",
            "Epoch 180/200\n",
            "192/192 [==============================] - 0s 1ms/step - loss: 0.6528 - accuracy: 0.6414\n",
            "Epoch 181/200\n",
            "192/192 [==============================] - 0s 1ms/step - loss: 0.6530 - accuracy: 0.6414\n",
            "Epoch 182/200\n",
            "192/192 [==============================] - 0s 1ms/step - loss: 0.6479 - accuracy: 0.6503\n",
            "Epoch 183/200\n",
            "192/192 [==============================] - 0s 1ms/step - loss: 0.6485 - accuracy: 0.6490\n",
            "Epoch 184/200\n",
            "192/192 [==============================] - 0s 1ms/step - loss: 0.6550 - accuracy: 0.6384\n",
            "Epoch 185/200\n",
            "192/192 [==============================] - 0s 1ms/step - loss: 0.6541 - accuracy: 0.6399\n",
            "Epoch 186/200\n",
            "192/192 [==============================] - 0s 1ms/step - loss: 0.6389 - accuracy: 0.6638\n",
            "Epoch 187/200\n",
            "192/192 [==============================] - 0s 1ms/step - loss: 0.6487 - accuracy: 0.6482\n",
            "Epoch 188/200\n",
            "192/192 [==============================] - 0s 1ms/step - loss: 0.6534 - accuracy: 0.6408\n",
            "Epoch 189/200\n",
            "192/192 [==============================] - 0s 1ms/step - loss: 0.6428 - accuracy: 0.6579\n",
            "Epoch 190/200\n",
            "192/192 [==============================] - 0s 1ms/step - loss: 0.6340 - accuracy: 0.6720\n",
            "Epoch 191/200\n",
            "192/192 [==============================] - 0s 1ms/step - loss: 0.6416 - accuracy: 0.6602\n",
            "Epoch 192/200\n",
            "192/192 [==============================] - 0s 1ms/step - loss: 0.6622 - accuracy: 0.6259\n",
            "Epoch 193/200\n",
            "192/192 [==============================] - 0s 1ms/step - loss: 0.6689 - accuracy: 0.6151\n",
            "Epoch 194/200\n",
            "192/192 [==============================] - 0s 1ms/step - loss: 0.6527 - accuracy: 0.6430\n",
            "Epoch 195/200\n",
            "192/192 [==============================] - 0s 1ms/step - loss: 0.6420 - accuracy: 0.6593\n",
            "Epoch 196/200\n",
            "192/192 [==============================] - 0s 1ms/step - loss: 0.6490 - accuracy: 0.6480\n",
            "Epoch 197/200\n",
            "192/192 [==============================] - 0s 1ms/step - loss: 0.6349 - accuracy: 0.6700\n",
            "Epoch 198/200\n",
            "192/192 [==============================] - 0s 1ms/step - loss: 0.6422 - accuracy: 0.6591\n",
            "Epoch 199/200\n",
            "192/192 [==============================] - 0s 1ms/step - loss: 0.6418 - accuracy: 0.6601\n",
            "Epoch 200/200\n",
            "192/192 [==============================] - 0s 1ms/step - loss: 0.6374 - accuracy: 0.6667\n"
          ],
          "name": "stdout"
        },
        {
          "output_type": "execute_result",
          "data": {
            "text/plain": [
              "<tensorflow.python.keras.callbacks.History at 0x7f1b02398b00>"
            ]
          },
          "metadata": {
            "tags": []
          },
          "execution_count": 23
        }
      ]
    },
    {
      "cell_type": "markdown",
      "metadata": {
        "id": "A5Tx2OCySlYy"
      },
      "source": [
        "모델 평가"
      ]
    },
    {
      "cell_type": "code",
      "metadata": {
        "colab": {
          "base_uri": "https://localhost:8080/"
        },
        "id": "gOulwe9eSm3b",
        "outputId": "086cc50c-6726-433e-df87-54e0bf67c758"
      },
      "source": [
        "print(\"acc : %.2f\"%(model.evaluate(x_data,y_data)[1]))"
      ],
      "execution_count": 24,
      "outputs": [
        {
          "output_type": "stream",
          "text": [
            "24/24 [==============================] - 0s 994us/step - loss: 0.6469 - accuracy: 0.6510\n",
            "acc : 0.65\n"
          ],
          "name": "stdout"
        }
      ]
    },
    {
      "cell_type": "markdown",
      "metadata": {
        "id": "IVzLC47dS01t"
      },
      "source": [
        "## 과정 정리\r\n",
        "- 데이터 불러오기\r\n",
        " - numpy로 불러오기 ,pandas 로 불러오기\r\n",
        "- 데이터 전처리 과정\r\n",
        " - null(결측치) 비어있는값 채워넣는 등 처리\r\n",
        " - 문자열 데이터 숫자로 바꾸는 인코딩 과정\r\n",
        " - 데이터 시각화를 통해 데이터를 가공하는 전 과정\r\n",
        "- 모델 설정 과 학습\r\n",
        " - 모델 설정과 신경망 모델 쌓기\r\n",
        " - 모델 컴파일\r\n",
        " - 모델 학습\r\n",
        "- 모델 평가\r\n",
        " : 나중에 더 자세하게.."
      ]
    }
  ]
}