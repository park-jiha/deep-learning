{
  "nbformat": 4,
  "nbformat_minor": 0,
  "metadata": {
    "colab": {
      "name": "로지스틱 회귀.ipynb",
      "provenance": [],
      "collapsed_sections": [],
      "authorship_tag": "ABX9TyO9uaisBhI/MUjdPtqwyVvl",
      "include_colab_link": true
    },
    "kernelspec": {
      "name": "python3",
      "display_name": "Python 3"
    }
  },
  "cells": [
    {
      "cell_type": "markdown",
      "metadata": {
        "id": "view-in-github",
        "colab_type": "text"
      },
      "source": [
        "<a href=\"https://colab.research.google.com/github/park-jiha/deep-learning/blob/main/%EB%A1%9C%EC%A7%80%EC%8A%A4%ED%8B%B1_%ED%9A%8C%EA%B7%80.ipynb\" target=\"_parent\"><img src=\"https://colab.research.google.com/assets/colab-badge.svg\" alt=\"Open In Colab\"/></a>"
      ]
    },
    {
      "cell_type": "markdown",
      "metadata": {
        "id": "r6H9Znxeco6a"
      },
      "source": [
        "# **로지스틱 회귀**\r\n",
        "## 기존의 선형 함수와 MSE를 그대로 이용할 수 있을까?\r\n",
        "\r\n",
        "### 가설 함수\r\n",
        "$$ y =ax +b $$\r\n",
        "왜안되나? -> 시그모이드 사용\r\n",
        "\r\n",
        "### 오차함수\r\n",
        "MSE -> 왜 안되나?(극소점에 빠짐 nonconvex) -> binary cross entropy\r\n",
        "\r\n",
        "###시그모이드 함수 -> 가설 함수\r\n",
        "$$ y = \\frac{1}{1+e^{-(ax+b)}} $$\r\n",
        "###오차함수\r\n",
        "$$ cost(W) = -\\frac{1}{n} \\sum y \\log\\left(H(x)\\right) + (1-y) \\left( \\log(1-H(x) \\right) $$"
      ]
    },
    {
      "cell_type": "code",
      "metadata": {
        "id": "rWPckDjVfqkg",
        "colab": {
          "base_uri": "https://localhost:8080/"
        },
        "outputId": "15f93539-829c-4eda-c556-eb8939fc1c5f"
      },
      "source": [
        "import numpy as np\r\n",
        "import matplotlib.pyplot as plt\r\n",
        "\r\n",
        "# 데이터 설정\r\n",
        "\r\n",
        "data = [[2,False],[4,False],[6,False],[8,True],[10,True],[12,True],[14,True]] # 시험시간 , 합격 여부(True/합,False/불합)\r\n",
        "x_data = [i[0] for i in data]\r\n",
        "y_data = [i[1] for i in data]\r\n",
        "x_data,y_data"
      ],
      "execution_count": null,
      "outputs": [
        {
          "output_type": "execute_result",
          "data": {
            "text/plain": [
              "([2, 4, 6, 8, 10, 12, 14], [False, False, False, True, True, True, True])"
            ]
          },
          "metadata": {
            "tags": []
          },
          "execution_count": 2
        }
      ]
    },
    {
      "cell_type": "markdown",
      "metadata": {
        "id": "4Su1AMKadOxA"
      },
      "source": [
        "## True,False 는 Boolean 형\r\n",
        "true false 말고도 문자열 데이터도 존재 하기도 함\r\n",
        "\r\n",
        "-> 컴퓨터가 알아먹을수 있게 숫자로 바꿔줘야함 => 데이터 인코딩"
      ]
    },
    {
      "cell_type": "code",
      "metadata": {
        "colab": {
          "base_uri": "https://localhost:8080/"
        },
        "id": "Wqg2NmurdR5A",
        "outputId": "95c0c606-da83-41e8-fdd4-e6abe4b9ebb0"
      },
      "source": [
        "y_data = list(map(int,y_data))\r\n",
        "y_data"
      ],
      "execution_count": null,
      "outputs": [
        {
          "output_type": "execute_result",
          "data": {
            "text/plain": [
              "[0, 0, 0, 1, 1, 1, 1]"
            ]
          },
          "metadata": {
            "tags": []
          },
          "execution_count": 3
        }
      ]
    },
    {
      "cell_type": "markdown",
      "metadata": {
        "id": "4wmOyKHHdWTu"
      },
      "source": [
        "### 좌표평면에 점 찍어보기"
      ]
    },
    {
      "cell_type": "code",
      "metadata": {
        "colab": {
          "base_uri": "https://localhost:8080/",
          "height": 279
        },
        "id": "VxkhnzendUNK",
        "outputId": "559a981d-520e-40fb-c60c-578917dd0df9"
      },
      "source": [
        "plt.scatter(x_data,y_data)\r\n",
        "plt.xlabel('Hour')\r\n",
        "plt.grid(True)"
      ],
      "execution_count": null,
      "outputs": [
        {
          "output_type": "display_data",
          "data": {
            "image/png": "[encoded data removed]",
            "text/plain": [
              "<Figure size 432x288 with 1 Axes>"
            ]
          },
          "metadata": {
            "tags": [],
            "needs_background": "light"
          }
        }
      ]
    },
    {
      "cell_type": "markdown",
      "metadata": {
        "id": "avmxHMRedctG"
      },
      "source": [
        "### 학습 단계"
      ]
    },
    {
      "cell_type": "code",
      "metadata": {
        "id": "Iz6DoyradcTq"
      },
      "source": [
        "# 시그모이드 함수 \r\n",
        "def sigmoid(x):\r\n",
        "  return 1/(1+np.e**(-x))\r\n",
        "\r\n",
        "# 오차함수를 각각 a,b로 편 미분 \r\n",
        "a = 0\r\n",
        "b = 0\r\n",
        "# a,b 초기화\r\n",
        "epochs = 2001\r\n",
        "lr = 0.05"
      ],
      "execution_count": null,
      "outputs": []
    },
    {
      "cell_type": "code",
      "metadata": {
        "colab": {
          "base_uri": "https://localhost:8080/"
        },
        "id": "OpE9FMTRdnGD",
        "outputId": "e77e1527-22d5-4434-c9e0-692250c69f73"
      },
      "source": [
        "for i in range(epochs):\r\n",
        "  for x,y in data:\r\n",
        "    # 미분값\r\n",
        "    a_diff = x*(sigmoid(a*x+b)-int(y))\r\n",
        "    b_diff = sigmoid(a*x+b)-int(y)\r\n",
        "    #갱신\r\n",
        "    a-= lr*a_diff\r\n",
        "    b-= lr*b_diff\r\n",
        "\r\n",
        "  if i%100==0:\r\n",
        "    print(\"epoch:.%f, a:%.4f , b:%.4f\"%(i,a,b))"
      ],
      "execution_count": null,
      "outputs": [
        {
          "output_type": "stream",
          "text": [
            "epoch:.0.000000, a:0.2860 , b:-0.0029\n",
            "epoch:.100.000000, a:0.6458 , b:-3.2469\n",
            "epoch:.200.000000, a:0.8366 , b:-4.8272\n",
            "epoch:.300.000000, a:0.9717 , b:-5.9082\n",
            "epoch:.400.000000, a:1.0791 , b:-6.7520\n",
            "epoch:.500.000000, a:1.1698 , b:-7.4548\n",
            "epoch:.600.000000, a:1.2491 , b:-8.0630\n",
            "epoch:.700.000000, a:1.3200 , b:-8.6023\n",
            "epoch:.800.000000, a:1.3844 , b:-9.0889\n",
            "epoch:.900.000000, a:1.4436 , b:-9.5336\n",
            "epoch:.1000.000000, a:1.4985 , b:-9.9440\n",
            "epoch:.1100.000000, a:1.5497 , b:-10.3257\n",
            "epoch:.1200.000000, a:1.5978 , b:-10.6829\n",
            "epoch:.1300.000000, a:1.6432 , b:-11.0189\n",
            "epoch:.1400.000000, a:1.6863 , b:-11.3365\n",
            "epoch:.1500.000000, a:1.7272 , b:-11.6376\n",
            "epoch:.1600.000000, a:1.7662 , b:-11.9242\n",
            "epoch:.1700.000000, a:1.8036 , b:-12.1977\n",
            "epoch:.1800.000000, a:1.8394 , b:-12.4594\n",
            "epoch:.1900.000000, a:1.8737 , b:-12.7102\n",
            "epoch:.2000.000000, a:1.9068 , b:-12.9513\n"
          ],
          "name": "stdout"
        }
      ]
    },
    {
      "cell_type": "markdown",
      "metadata": {
        "id": "AOFjZllWdqNj"
      },
      "source": [
        "## **결과 확인(시그모이드 함수 꼴 확인)**"
      ]
    },
    {
      "cell_type": "code",
      "metadata": {
        "colab": {
          "base_uri": "https://localhost:8080/",
          "height": 297
        },
        "id": "otgUPNV_dvyh",
        "outputId": "6b00191f-4a76-4d85-ffde-ef7d52d3408c"
      },
      "source": [
        "plt.scatter(x_data,y_data)\r\n",
        "plt.xlabel('Hour')\r\n",
        "\r\n",
        "x_range=(np.arange(0,15,0.1))\r\n",
        "plt.plot(x_range,np.array([sigmoid(a*x+b) for x in x_range]),'r')\r\n",
        "plt.grid(True)\r\n",
        "y_data"
      ],
      "execution_count": null,
      "outputs": [
        {
          "output_type": "execute_result",
          "data": {
            "text/plain": [
              "[0, 0, 0, 1, 1, 1, 1]"
            ]
          },
          "metadata": {
            "tags": []
          },
          "execution_count": 9
        },
        {
          "output_type": "display_data",
          "data": {
            "image/png": "[encoded data removed]",
            "text/plain": [
              "<Figure size 432x288 with 1 Axes>"
            ]
          },
          "metadata": {
            "tags": [],
            "needs_background": "light"
          }
        }
      ]
    },
    {
      "cell_type": "markdown",
      "metadata": {
        "id": "UxGXIQLId04a"
      },
      "source": [
        "#### ex) 3시간 공부했을 경우 합/불 ?"
      ]
    },
    {
      "cell_type": "code",
      "metadata": {
        "colab": {
          "base_uri": "https://localhost:8080/"
        },
        "id": "HsJW6Ajed7ws",
        "outputId": "37baae72-80bd-4146-efc0-2e791e0adb46"
      },
      "source": [
        "print((sigmoid(a*3+b))>0.5) # 0.5 를 기준"
      ],
      "execution_count": null,
      "outputs": [
        {
          "output_type": "stream",
          "text": [
            "False\n"
          ],
          "name": "stdout"
        }
      ]
    },
    {
      "cell_type": "markdown",
      "metadata": {
        "id": "rxirEdZUeT2D"
      },
      "source": [
        "# **Tensorflow 사용**"
      ]
    },
    {
      "cell_type": "code",
      "metadata": {
        "id": "YqDJqZJ_eYta"
      },
      "source": [
        "import numpy as np\r\n",
        "import pandas as pd\r\n",
        "import matplotlib.pyplot as plt\r\n",
        "import tensorflow as tf\r\n",
        "import random\r\n",
        "\r\n",
        "data = [[2, 0], [4, 0], [6, 0], [8, 1], [10, 1], [12, 1], [14, 1]]\r\n",
        "\r\n",
        "x1 = [i[0] for i in data]\r\n",
        "y = [i[1] for i in data]\r\n",
        "\r\n",
        "x_g=[i[0] for i in data]\r\n",
        "y_g=[i[1] for i in data]"
      ],
      "execution_count": 16,
      "outputs": []
    },
    {
      "cell_type": "markdown",
      "metadata": {
        "id": "-EAlpNqkect9"
      },
      "source": [
        "### 그래프로 확인(좌표평면 점 찍기)"
      ]
    },
    {
      "cell_type": "code",
      "metadata": {
        "colab": {
          "base_uri": "https://localhost:8080/",
          "height": 265
        },
        "id": "Pr8DhSQoefB3",
        "outputId": "90a17dde-6dd6-4405-8d42-13844e93f7d2"
      },
      "source": [
        "plt.scatter(x1, y)\r\n",
        "plt.xlim(0, 15)\r\n",
        "plt.ylim(-.1, 1.1)\r\n",
        "plt.grid(True)"
      ],
      "execution_count": 17,
      "outputs": [
        {
          "output_type": "display_data",
          "data": {
            "image/png": "[encoded data removed]",
            "text/plain": [
              "<Figure size 432x288 with 1 Axes>"
            ]
          },
          "metadata": {
            "tags": [],
            "needs_background": "light"
          }
        }
      ]
    },
    {
      "cell_type": "code",
      "metadata": {
        "id": "e3hjxuwXendD"
      },
      "source": [
        "x1_data = np.array(x1)\r\n",
        "y_data = np.array(y)\r\n",
        "\r\n",
        "#a = tf.Variable(random.random())\r\n",
        "#b = tf.Variable(random.random())\r\n",
        "\r\n",
        "a = tf.Variable(0, dtype=tf.float32)\r\n",
        "b = tf.Variable(0, dtype=tf.float32)\r\n",
        "\r\n",
        "def compute_loss():\r\n",
        "    hypothesis = tf.math.sigmoid(a*x1_data+b)\r\n",
        "    loss = -tf.math.reduce_mean(y_data * tf.math.log(hypothesis) \r\n",
        "                                + (1 - y_data) * tf.math.log(1-hypothesis))\r\n",
        "    return loss"
      ],
      "execution_count": 18,
      "outputs": []
    },
    {
      "cell_type": "markdown",
      "metadata": {
        "id": "nVUo7Bg9e6zj"
      },
      "source": [
        "### 학습 단계"
      ]
    },
    {
      "cell_type": "code",
      "metadata": {
        "colab": {
          "base_uri": "https://localhost:8080/"
        },
        "id": "fsUSAdSKe7PC",
        "outputId": "c28ea9d7-85ef-47b1-ff5a-708b6bb6d269"
      },
      "source": [
        "optimizer = tf.optimizers.SGD(lr=0.05)\r\n",
        "epoch = 15001\r\n",
        "\r\n",
        "for i in range(epoch):\r\n",
        "    optimizer.minimize(compute_loss, var_list=[a,b])\r\n",
        "    if i%1000 == 0:\r\n",
        "        print(i,'a:', a.numpy(), 'b:', b.numpy(), 'loss:', compute_loss().numpy())"
      ],
      "execution_count": 19,
      "outputs": [
        {
          "output_type": "stream",
          "text": [
            "0 a: 0.11428572 b: 0.0035714281 loss: 0.55463773\n",
            "1000 a: 0.6151288 b: -3.913399 loss: 0.18809369\n",
            "2000 a: 0.831343 b: -5.517361 loss: 0.13457473\n",
            "3000 a: 0.98071706 b: -6.602697 loss: 0.11040014\n",
            "4000 a: 1.0987628 b: -7.4521227 loss: 0.095641874\n",
            "5000 a: 1.1981717 b: -8.163361 loss: 0.08530726\n",
            "6000 a: 1.2850072 b: -8.782278 loss: 0.0774856\n",
            "7000 a: 1.362669 b: -9.334306 loss: 0.07126483\n",
            "8000 a: 1.4332715 b: -9.835133 loss: 0.0661453\n",
            "9000 a: 1.498228 b: -10.295178 loss: 0.061825875\n",
            "10000 a: 1.5585368 b: -10.721764 loss: 0.058112152\n",
            "11000 a: 1.6149315 b: -11.120253 loss: 0.054871555\n",
            "12000 a: 1.6679708 b: -11.494706 loss: 0.052010175\n",
            "13000 a: 1.7180914 b: -11.848302 loss: 0.049458694\n",
            "14000 a: 1.7656425 b: -12.183561 loss: 0.047165\n",
            "15000 a: 1.8109087 b: -12.502541 loss: 0.045088697\n"
          ],
          "name": "stdout"
        }
      ]
    },
    {
      "cell_type": "markdown",
      "metadata": {
        "id": "Aw3-34wkezSX"
      },
      "source": [
        "### 그래프로 확인(시그모이드 함수 꼴)"
      ]
    },
    {
      "cell_type": "code",
      "metadata": {
        "colab": {
          "base_uri": "https://localhost:8080/",
          "height": 283
        },
        "id": "PVj1EF9Cew4O",
        "outputId": "76ce4ef9-08f1-47be-edf3-24190df1b8c9"
      },
      "source": [
        "# 앞서 구한 기울기와 절편을 이용해 그래프를 그려 봅니다.\r\n",
        "plt.scatter(x_g, y_g)\r\n",
        "plt.xlim(0, 15)\r\n",
        "plt.ylim(-.1, 1.1)\r\n",
        "x_range = (np.arange(0, 15, 0.1)) #그래프로 나타낼 x값의 범위를 정합니다.\r\n",
        "plt.plot(np.arange(0, 15, 0.1), np.array([tf.math.sigmoid(a*x + b) for x in x_range]),'-r')\r\n",
        "plt.grid(True)\r\n",
        "plt.show\r\n",
        "print(\"기울기=%.04f, 절편=%.04f\" % (a.numpy(), b.numpy()))"
      ],
      "execution_count": 20,
      "outputs": [
        {
          "output_type": "stream",
          "text": [
            "기울기=1.8109, 절편=-12.5025\n"
          ],
          "name": "stdout"
        },
        {
          "output_type": "display_data",
          "data": {
            "image/png": "[encoded data removed]",
            "text/plain": [
              "<Figure size 432x288 with 1 Axes>"
            ]
          },
          "metadata": {
            "tags": [],
            "needs_background": "light"
          }
        }
      ]
    }
  ]
}