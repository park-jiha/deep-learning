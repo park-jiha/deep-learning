{
  "nbformat": 4,
  "nbformat_minor": 0,
  "metadata": {
    "colab": {
      "name": "선형회귀.ipynb",
      "provenance": [],
      "collapsed_sections": [],
      "authorship_tag": "ABX9TyOH/O3jyYHbwFTGRPqyxvfD",
      "include_colab_link": true
    },
    "kernelspec": {
      "name": "python3",
      "display_name": "Python 3"
    }
  },
  "cells": [
    {
      "cell_type": "markdown",
      "metadata": {
        "id": "view-in-github",
        "colab_type": "text"
      },
      "source": [
        "<a href=\"https://colab.research.google.com/github/park-jiha/deep-learning/blob/main/%EC%84%A0%ED%98%95%ED%9A%8C%EA%B7%80.ipynb\" target=\"_parent\"><img src=\"https://colab.research.google.com/assets/colab-badge.svg\" alt=\"Open In Colab\"/></a>"
      ]
    },
    {
      "cell_type": "markdown",
      "metadata": {
        "id": "KVvjozVYwb0C"
      },
      "source": [
        "# **최소제곱법**\r\n",
        ": 주어진 독립변수 x 값이 하나일 경우"
      ]
    },
    {
      "cell_type": "code",
      "metadata": {
        "colab": {
          "base_uri": "https://localhost:8080/"
        },
        "id": "1HqaxnxdwN-b",
        "outputId": "c8f78178-aa67-4bbd-cd09-463aa7e5f6ef"
      },
      "source": [
        "import numpy as np\r\n",
        "import matplotlib.pyplot as plt\r\n",
        "\r\n",
        "# x 값과 y값\r\n",
        "x=[2, 4, 6, 8]\r\n",
        "y=[81, 93, 91, 97]\r\n",
        "\r\n",
        "# x와 y의 평균값\r\n",
        "mx = np.mean(x)\r\n",
        "my = np.mean(y)\r\n",
        "print(\"x의 평균값:\", mx)\r\n",
        "print(\"y의 평균값:\", my)\r\n",
        "\r\n",
        "# 기울기 공식의 분모\r\n",
        "divisor = sum([(mx - i)**2 for i in x])\r\n",
        "\r\n",
        "# 기울기 공식의 분자\r\n",
        "def top(x, mx, y, my):\r\n",
        "    d = 0\r\n",
        "    for i in range(len(x)):\r\n",
        "        d += (x[i] - mx) * (y[i] - my)\r\n",
        "    return d\r\n",
        "\r\n",
        "dividend = top(x, mx, y, my)\r\n",
        "\r\n",
        "print(\"분모:\", divisor)\r\n",
        "print(\"분자:\", dividend)\r\n",
        "\r\n",
        "# 기울기와 y 절편 구하기\r\n",
        "a = dividend / divisor\r\n",
        "b = my - (mx*a)\r\n",
        "\r\n",
        "# 출력으로 확인\r\n",
        "print(\"기울기 a =\", a)\r\n",
        "print(\"y 절편 b =\", b)"
      ],
      "execution_count": null,
      "outputs": [
        {
          "output_type": "stream",
          "text": [
            "x의 평균값: 5.0\n",
            "y의 평균값: 90.5\n",
            "분모: 20.0\n",
            "분자: 46.0\n",
            "기울기 a = 2.3\n",
            "y 절편 b = 79.0\n"
          ],
          "name": "stdout"
        }
      ]
    },
    {
      "cell_type": "markdown",
      "metadata": {
        "id": "gBHm163rNknW"
      },
      "source": [
        "# **그래프로 확인**"
      ]
    },
    {
      "cell_type": "code",
      "metadata": {
        "colab": {
          "base_uri": "https://localhost:8080/",
          "height": 265
        },
        "id": "AGzxHewiNvY0",
        "outputId": "7fe5adcb-a48c-4b64-b2a9-cff431ce7e95"
      },
      "source": [
        "plt.figure(1)\r\n",
        "plt.scatter(x,y)\r\n",
        "plt.grid()"
      ],
      "execution_count": null,
      "outputs": [
        {
          "output_type": "display_data",
          "data": {
            "image/png": "[encoded data removed]",
            "text/plain": [
              "<Figure size 432x288 with 1 Axes>"
            ]
          },
          "metadata": {
            "tags": [],
            "needs_background": "light"
          }
        }
      ]
    },
    {
      "cell_type": "code",
      "metadata": {
        "colab": {
          "base_uri": "https://localhost:8080/",
          "height": 265
        },
        "id": "MZ18GsfvN-hA",
        "outputId": "64c27bd7-b722-45e4-87be-03912eacc0ca"
      },
      "source": [
        "lin_x = np.linspace(1,8,100)\r\n",
        "f = a*lin_x + b\r\n",
        "plt.plot(lin_x,f,'r')\r\n",
        "plt.scatter(x,y)\r\n",
        "plt.grid()"
      ],
      "execution_count": null,
      "outputs": [
        {
          "output_type": "display_data",
          "data": {
            "image/png": "[encoded data removed]",
            "text/plain": [
              "<Figure size 432x288 with 1 Axes>"
            ]
          },
          "metadata": {
            "tags": [],
            "needs_background": "light"
          }
        }
      ]
    },
    {
      "cell_type": "markdown",
      "metadata": {
        "id": "5ufqpOBqw7-S"
      },
      "source": [
        "# **평균 제곱 오차(MSE) 확인**\r\n",
        ": 실제 값과 예측 값의 오차의 제곱의 합(오차가 음수인 경우를 대비)"
      ]
    },
    {
      "cell_type": "code",
      "metadata": {
        "colab": {
          "base_uri": "https://localhost:8080/"
        },
        "id": "0LhdQLt0w6AH",
        "outputId": "c91a30f8-f2a7-4292-c3de-7af073947395"
      },
      "source": [
        "import numpy as np\r\n",
        "import matplotlib.pyplot as plt\r\n",
        "\r\n",
        "#기울기 a와 y 절편 b\r\n",
        "ab=[3,76]\r\n",
        "\r\n",
        "# x,y의 데이터 값\r\n",
        "data = [[2, 81], [4, 93], [6, 91], [8, 97]]\r\n",
        "x = [i[0] for i in data]\r\n",
        "y = [i[1] for i in data]\r\n",
        "\r\n",
        "# y=ax + b에 a,b 값 대입하여 결과를 출력하는 함수\r\n",
        "def predict(x):\r\n",
        "    return ab[0]*x + ab[1]\r\n",
        "\r\n",
        "# MSE 함수\r\n",
        "def mse(y, y_hat):\r\n",
        "    return ((y - y_hat) ** 2).mean()\r\n",
        "\r\n",
        "# RMSE 함수\r\n",
        "def rmse(y, y_hat):\r\n",
        "    return np.sqrt(((y - y_hat) ** 2).mean())\r\n",
        "\r\n",
        "# MSE 함수를 각 y값에 대입하여 최종 값을 구하는 함수\r\n",
        "def mse_val(predict_result, y):\r\n",
        "    return mse(np.array(predict_result), np.array(y))\r\n",
        "\r\n",
        "# RMSE 함수를 각 y값에 대입하여 최종 값을 구하는 함수\r\n",
        "def rmse_val(predict_result, y):\r\n",
        "    return rmse(np.array(predict_result), np.array(y))\r\n",
        "\r\n",
        "# 예측값이 들어갈 빈 리스트\r\n",
        "predict_result = []\r\n",
        "\r\n",
        "# 모든 x값을 한 번씩 대입하여 predict_result 리스트완성.\r\n",
        "for i in range(len(x)):\r\n",
        "    predict_result.append(predict(x[i]))\r\n",
        "    print(\"공부시간=%.f, 실제점수=%.f, 예측점수=%.f\" % (x[i], y[i], predict(x[i])))\r\n",
        "\r\n",
        "# 최종 MSE, RMSE 출력\r\n",
        "print(\"mse 최종값: \" + str(mse_val(predict_result, y)))\r\n",
        "print(\"rmse 최종값: \" + str(rmse_val(predict_result, y)))"
      ],
      "execution_count": null,
      "outputs": [
        {
          "output_type": "stream",
          "text": [
            "공부시간=2, 실제점수=81, 예측점수=82\n",
            "공부시간=4, 실제점수=93, 예측점수=88\n",
            "공부시간=6, 실제점수=91, 예측점수=94\n",
            "공부시간=8, 실제점수=97, 예측점수=100\n",
            "mse 최종값: 11.0\n",
            "rmse 최종값: 3.3166247903554\n"
          ],
          "name": "stdout"
        }
      ]
    },
    {
      "cell_type": "markdown",
      "metadata": {
        "id": "5RmreYgmOHUq"
      },
      "source": [
        "# **그래프로 확인**"
      ]
    },
    {
      "cell_type": "code",
      "metadata": {
        "colab": {
          "base_uri": "https://localhost:8080/",
          "height": 265
        },
        "id": "6udDNl1WOHDA",
        "outputId": "4beef917-95ed-40ec-e0c8-e360659fabbb"
      },
      "source": [
        "lin_x = np.linspace(1,8,100)\r\n",
        "f = ab[0]*lin_x + ab[1]\r\n",
        "plt.plot(lin_x,f,'r')\r\n",
        "plt.scatter(x,y)\r\n",
        "plt.grid()"
      ],
      "execution_count": null,
      "outputs": [
        {
          "output_type": "display_data",
          "data": {
            "image/png": "[encoded data removed]",
            "text/plain": [
              "<Figure size 432x288 with 1 Axes>"
            ]
          },
          "metadata": {
            "tags": [],
            "needs_background": "light"
          }
        }
      ]
    }
  ]
}