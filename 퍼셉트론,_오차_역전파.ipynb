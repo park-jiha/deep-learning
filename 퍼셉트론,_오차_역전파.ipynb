{
  "nbformat": 4,
  "nbformat_minor": 0,
  "metadata": {
    "colab": {
      "name": "퍼셉트론, 오차 역전파.ipynb",
      "provenance": [],
      "collapsed_sections": [],
      "authorship_tag": "ABX9TyOooYmF4FJS/J4oCEg99epY",
      "include_colab_link": true
    },
    "kernelspec": {
      "name": "python3",
      "display_name": "Python 3"
    }
  },
  "cells": [
    {
      "cell_type": "markdown",
      "metadata": {
        "id": "view-in-github",
        "colab_type": "text"
      },
      "source": [
        "<a href=\"https://colab.research.google.com/github/park-jiha/deep-learning/blob/main/%ED%8D%BC%EC%85%89%ED%8A%B8%EB%A1%A0%2C_%EC%98%A4%EC%B0%A8_%EC%97%AD%EC%A0%84%ED%8C%8C.ipynb\" target=\"_parent\"><img src=\"https://colab.research.google.com/assets/colab-badge.svg\" alt=\"Open In Colab\"/></a>"
      ]
    },
    {
      "cell_type": "markdown",
      "metadata": {
        "id": "iaWK_EwqbMQ3"
      },
      "source": [
        "# **퍼셉트론**\r\n",
        "\r\n",
        "## 용어\r\n",
        "- 퍼셉트론\r\n",
        "- 가중치, 가중합, 바이어스, 활성화 함수, 은닉층\r\n",
        "\r\n",
        "### **☞ XOR 문제 해결?**"
      ]
    },
    {
      "cell_type": "markdown",
      "metadata": {
        "id": "lzS-PTX5bsDP"
      },
      "source": [
        "#**다층 퍼셉트론(MLP)**\r\n",
        "\r\n",
        "### 설계 및 **XOR** 문제 해결 -> **은닉층!**"
      ]
    },
    {
      "cell_type": "markdown",
      "metadata": {
        "id": "EJ7_mU3GcIc1"
      },
      "source": [
        "## 코딩으로 XOR 문제 해결"
      ]
    },
    {
      "cell_type": "code",
      "metadata": {
        "id": "OIXRuMGqapoS"
      },
      "source": [
        "import numpy as np\r\n",
        "\r\n",
        "w11 = np.array([-2,-2])\r\n",
        "w12 = np.array([2,2])\r\n",
        "w2 =np.array([1,1])\r\n",
        "b1 = 3\r\n",
        "b2 = -1\r\n",
        "b3 = -1"
      ],
      "execution_count": null,
      "outputs": []
    },
    {
      "cell_type": "code",
      "metadata": {
        "id": "-TPWpj7bcUrn"
      },
      "source": [
        "def MLP(x,w,b):\r\n",
        "  y =np.sum(w*x)+b\r\n",
        "  if y<=0:\r\n",
        "    return 0\r\n",
        "  return 1"
      ],
      "execution_count": null,
      "outputs": []
    },
    {
      "cell_type": "code",
      "metadata": {
        "id": "TXsmqKd2cWNV"
      },
      "source": [
        "def NAND(x1,x2):\r\n",
        "  return MLP(np.array([x1,x2]),w11,b1)"
      ],
      "execution_count": null,
      "outputs": []
    },
    {
      "cell_type": "code",
      "metadata": {
        "id": "pwTn-IKFcbFv"
      },
      "source": [
        "def OR(x1,x2):\r\n",
        "  return MLP(np.array([x1,x2]),w12,b2)"
      ],
      "execution_count": null,
      "outputs": []
    },
    {
      "cell_type": "code",
      "metadata": {
        "id": "8qlH62zUcc3C"
      },
      "source": [
        "def AND(x1,x2):\r\n",
        "  return MLP(np.array([x1,x2]),w2,b3)"
      ],
      "execution_count": null,
      "outputs": []
    },
    {
      "cell_type": "code",
      "metadata": {
        "id": "o4Ykc1ZvcgvU"
      },
      "source": [
        "def XOR(x1,x2):\r\n",
        "  return AND(NAND(x1,x2),OR(x1,x2))"
      ],
      "execution_count": null,
      "outputs": []
    },
    {
      "cell_type": "code",
      "metadata": {
        "colab": {
          "base_uri": "https://localhost:8080/"
        },
        "id": "BLlPC0b2cijk",
        "outputId": "5fa1f059-1b74-445d-c275-bed55b1da228"
      },
      "source": [
        "# 결과 출력\r\n",
        "for x in [(0,0),(1,0),(0,1),(1,1)]:\r\n",
        "  y = XOR(x[0],x[1])\r\n",
        "  print(\"입력 \"+str(x)+\"출력 \"+str(y))"
      ],
      "execution_count": null,
      "outputs": [
        {
          "output_type": "stream",
          "text": [
            "입력 (0, 0)출력 0\n",
            "입력 (1, 0)출력 1\n",
            "입력 (0, 1)출력 1\n",
            "입력 (1, 1)출력 0\n"
          ],
          "name": "stdout"
        }
      ]
    },
    {
      "cell_type": "markdown",
      "metadata": {
        "id": "YW06QWaZclHk"
      },
      "source": [
        "## 퍼셉트론 하나로 해결되지 않던 문제를 은닉층으로 해결\r\n",
        "★ 은닉층을 여러 개? -> 사람의 신경망과 닮음\r\n",
        "###**인공 신경망(신경망) !!**\r\n"
      ]
    },
    {
      "cell_type": "markdown",
      "metadata": {
        "id": "VbpNkXyxdKsM"
      },
      "source": [
        "#**오차 역전파**\r\n",
        "\r\n",
        ": 단일 퍼셉트론에서 결과값을 얻고 오차를 구해 이를 토대로 앞 단계에서 정한 가중치를 조정\r\n",
        "###**= 다층 퍼셉트론도 마찬가지로 결과값의 오차를 구해 이를 토대로 하나 앞선 가중치를 차례로 '거슬러 올라가며' 조정**\r\n",
        "\r\n",
        "### W(t+1) = Wt - (d오차 / dW)\r\n",
        ": 새 가중치는 = 현 가중치에서 - '가중치에 대한 기울기'를 뺀 값이다.\r\n"
      ]
    },
    {
      "cell_type": "markdown",
      "metadata": {
        "id": "hl502DjpI72p"
      },
      "source": [
        "## **오차 역전파 코딩 응용**\r\n",
        "\r\n",
        "####1. 환경 변수 지정\r\n",
        ": 환경 변수에는 입력 값과 타깃 결괏값이 포함된 데이터셋, 학습률 등이 포함된다. 활성화 함수와 가중치 등도 선언되어야 한다.\r\n",
        "####2. 신경망 실행\r\n",
        ": 초깃값을 입력하여 활성화 함수와 가중치를 거쳐 결괏값이 나오게 한다.\r\n",
        "####3. 결과를 실제 값과 비교\r\n",
        ": 오차를 측정한다.\r\n",
        "####4. 역전파 실행\r\n",
        ": 출력층과 은닉층의 가중치를 수정한다.\r\n",
        "####5. 결과 출력\r\n",
        ": 결과를 출력한다."
      ]
    },
    {
      "cell_type": "markdown",
      "metadata": {
        "id": "N7guqWaNKcvX"
      },
      "source": [
        "# **신경망에서 딥러닝으로**"
      ]
    },
    {
      "cell_type": "code",
      "metadata": {
        "id": "nB4qNdCoKhQa"
      },
      "source": [
        "from tensorflow.keras import optimizers\r\n",
        "from tensorflow.keras import activations\r\n",
        "from tensorflow.keras import losses"
      ],
      "execution_count": 9,
      "outputs": []
    },
    {
      "cell_type": "markdown",
      "metadata": {
        "id": "MDWCV8wnKi6h"
      },
      "source": [
        "## 케라스 내 loss들"
      ]
    },
    {
      "cell_type": "code",
      "metadata": {
        "id": "3JccqLLNLG_Z"
      },
      "source": [
        "losses.MSE() # MSE \r\n",
        "losses.binary_crossentropy() # 로지스틱 회귀(이진 분류) 에서\r\n",
        "losses.categorical_crossentropy() # 다중 분류에서"
      ],
      "execution_count": null,
      "outputs": []
    },
    {
      "cell_type": "markdown",
      "metadata": {
        "id": "nASHuR_eLIx9"
      },
      "source": [
        "## 활성화 함수들\r\n",
        "- 시그모이드 함수 사용 시 기울기 소실 문제 발생"
      ]
    },
    {
      "cell_type": "code",
      "metadata": {
        "id": "jEaAOfPFLOlk"
      },
      "source": [
        "activations.relu() # ReLu\r\n",
        "activations.sigmoid() # 시그모이드\r\n",
        "activations.tanh() # 하이퍼볼릭 탄젠트"
      ],
      "execution_count": null,
      "outputs": []
    },
    {
      "cell_type": "markdown",
      "metadata": {
        "id": "tOQbcIsuLR_H"
      },
      "source": [
        "### 참고 개념"
      ]
    },
    {
      "cell_type": "code",
      "metadata": {
        "id": "T5M3ece6LVB_"
      },
      "source": [
        "optimizers.Adam(learning_rate=0.002) # Adam\r\n",
        "optimizers.SGD(learning_rate=0.002) # 확률적 경사하강법 SGD\r\n",
        "optimizers.RMSprop(learning_rate=0.001)  # RMSprop"
      ],
      "execution_count": null,
      "outputs": []
    }
  ]
}